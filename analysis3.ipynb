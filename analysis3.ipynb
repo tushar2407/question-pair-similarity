{
 "cells": [
  {
   "cell_type": "code",
   "execution_count": 12,
   "metadata": {},
   "outputs": [],
   "source": [
    "import pandas as pd\n",
    "import numpy as np\n",
    "import matplotlib.pyplot as plt\n",
    "import xgboost as xgb\n",
    "import seaborn as sns\n",
    "import pickle\n",
    "from sklearn.model_selection import train_test_split\n",
    "from sklearn.metrics import (\n",
    "    confusion_matrix,\n",
    "    accuracy_score, log_loss, f1_score,\n",
    "    precision_score, recall_score\n",
    ")\n",
    "from sklearn.linear_model import LogisticRegression\n",
    "from sklearn.feature_extraction.text import TfidfVectorizer\n",
    "\n",
    "import scipy\n",
    "import numpy as np\n",
    "from sklearn.svm import SVC\n",
    "import pickle\n"
   ]
  },
  {
   "cell_type": "code",
   "execution_count": 13,
   "metadata": {},
   "outputs": [
    {
     "data": {
      "text/html": [
       "<div>\n",
       "<style scoped>\n",
       "    .dataframe tbody tr th:only-of-type {\n",
       "        vertical-align: middle;\n",
       "    }\n",
       "\n",
       "    .dataframe tbody tr th {\n",
       "        vertical-align: top;\n",
       "    }\n",
       "\n",
       "    .dataframe thead th {\n",
       "        text-align: right;\n",
       "    }\n",
       "</style>\n",
       "<table border=\"1\" class=\"dataframe\">\n",
       "  <thead>\n",
       "    <tr style=\"text-align: right;\">\n",
       "      <th></th>\n",
       "      <th>id</th>\n",
       "      <th>qid1</th>\n",
       "      <th>qid2</th>\n",
       "      <th>question1</th>\n",
       "      <th>question2</th>\n",
       "      <th>is_duplicate</th>\n",
       "    </tr>\n",
       "  </thead>\n",
       "  <tbody>\n",
       "    <tr>\n",
       "      <th>0</th>\n",
       "      <td>0</td>\n",
       "      <td>1</td>\n",
       "      <td>2</td>\n",
       "      <td>What is the step by step guide to invest in sh...</td>\n",
       "      <td>What is the step by step guide to invest in sh...</td>\n",
       "      <td>0</td>\n",
       "    </tr>\n",
       "    <tr>\n",
       "      <th>1</th>\n",
       "      <td>1</td>\n",
       "      <td>3</td>\n",
       "      <td>4</td>\n",
       "      <td>What is the story of Kohinoor (Koh-i-Noor) Dia...</td>\n",
       "      <td>What would happen if the Indian government sto...</td>\n",
       "      <td>0</td>\n",
       "    </tr>\n",
       "    <tr>\n",
       "      <th>2</th>\n",
       "      <td>2</td>\n",
       "      <td>5</td>\n",
       "      <td>6</td>\n",
       "      <td>How can I increase the speed of my internet co...</td>\n",
       "      <td>How can Internet speed be increased by hacking...</td>\n",
       "      <td>0</td>\n",
       "    </tr>\n",
       "    <tr>\n",
       "      <th>3</th>\n",
       "      <td>3</td>\n",
       "      <td>7</td>\n",
       "      <td>8</td>\n",
       "      <td>Why am I mentally very lonely? How can I solve...</td>\n",
       "      <td>Find the remainder when [math]23^{24}[/math] i...</td>\n",
       "      <td>0</td>\n",
       "    </tr>\n",
       "    <tr>\n",
       "      <th>4</th>\n",
       "      <td>4</td>\n",
       "      <td>9</td>\n",
       "      <td>10</td>\n",
       "      <td>Which one dissolve in water quikly sugar, salt...</td>\n",
       "      <td>Which fish would survive in salt water?</td>\n",
       "      <td>0</td>\n",
       "    </tr>\n",
       "  </tbody>\n",
       "</table>\n",
       "</div>"
      ],
      "text/plain": [
       "   id  qid1  qid2                                          question1  \\\n",
       "0   0     1     2  What is the step by step guide to invest in sh...   \n",
       "1   1     3     4  What is the story of Kohinoor (Koh-i-Noor) Dia...   \n",
       "2   2     5     6  How can I increase the speed of my internet co...   \n",
       "3   3     7     8  Why am I mentally very lonely? How can I solve...   \n",
       "4   4     9    10  Which one dissolve in water quikly sugar, salt...   \n",
       "\n",
       "                                           question2  is_duplicate  \n",
       "0  What is the step by step guide to invest in sh...             0  \n",
       "1  What would happen if the Indian government sto...             0  \n",
       "2  How can Internet speed be increased by hacking...             0  \n",
       "3  Find the remainder when [math]23^{24}[/math] i...             0  \n",
       "4            Which fish would survive in salt water?             0  "
      ]
     },
     "execution_count": 13,
     "metadata": {},
     "output_type": "execute_result"
    }
   ],
   "source": [
    "BASE_DIR = './dataset/'\n",
    "# train = pd.read_csv(f'{BASE_DIR}train_preprocessed.csv')\n",
    "train = pd.read_csv(f'{BASE_DIR}train.csv')\n",
    "train.fillna(\"\", inplace=True)\n",
    "train.head()"
   ]
  },
  {
   "cell_type": "code",
   "execution_count": 14,
   "metadata": {},
   "outputs": [
    {
     "name": "stdout",
     "output_type": "stream",
     "text": [
      "(404290, 4)\n"
     ]
    }
   ],
   "source": [
    "y_true = train['is_duplicate']\n",
    "train.drop(['id','is_duplicate'], axis=1, inplace=True)\n",
    "print(train.shape)"
   ]
  },
  {
   "cell_type": "code",
   "execution_count": 18,
   "metadata": {},
   "outputs": [],
   "source": [
    "def get_ngram_embedding(train, ngram=(1,1)):\n",
    "    tfidf = TfidfVectorizer(analyzer='word', max_features = 5000, token_pattern=r'\\w{1,}', ngram_range = ngram)\n",
    "\n",
    "    q1word_trans = tfidf.fit_transform(train['question1'].values)\n",
    "    q2word_trans = tfidf.fit_transform(train['question2'].values)\n",
    "\n",
    "    X = scipy.sparse.hstack((q1word_trans,q2word_trans))\n",
    "    y = y_true\n",
    "\n",
    "    X_train,X_test,y_train,y_test = train_test_split(X,y, test_size = 0.3, random_state = 42)\n",
    "    return X_train, X_test, y_train, y_test "
   ]
  },
  {
   "cell_type": "code",
   "execution_count": 15,
   "metadata": {},
   "outputs": [
    {
     "name": "stdout",
     "output_type": "stream",
     "text": [
      "(283003, 4) (121287, 4) (283003,) (121287,)\n"
     ]
    }
   ],
   "source": [
    "X_train, X_test, y_train, y_test = train_test_split(train, y_true, stratify = y_true, test_size = 0.3)\n",
    "print(X_train.shape, X_test.shape, y_train.shape, y_test.shape)"
   ]
  },
  {
   "cell_type": "markdown",
   "metadata": {},
   "source": [
    "## Logistic Regression"
   ]
  },
  {
   "cell_type": "code",
   "execution_count": 8,
   "metadata": {},
   "outputs": [],
   "source": [
    "def logistic_regression(ngram = (1,1)):\n",
    "    global train\n",
    "\n",
    "    tfidf = TfidfVectorizer(analyzer='word', max_features = 5000, token_pattern=r'\\w{1,}', ngram_range = ngram)\n",
    "\n",
    "    q1word_trans = tfidf.fit_transform(train['question1'].values)\n",
    "    q2word_trans = tfidf.fit_transform(train['question2'].values)\n",
    "\n",
    "    X = scipy.sparse.hstack((q1word_trans,q2word_trans))\n",
    "    y = y_true\n",
    "    \n",
    "    X_train,X_test,y_train,y_test = train_test_split(X,y, test_size = 0.3, random_state = 42)\n",
    "\n",
    "    clf = LogisticRegression(random_state=42, max_iter = 1000)\n",
    "    clf.fit(X_train, y_train)\n",
    "    predict_y = clf.predict_proba(X_test)\n",
    "    print(\"Log loss:\", log_loss(y_test, predict_y, labels = clf.classes_))\n",
    "\n",
    "    predict_y = clf.predict(X_test)\n",
    "    print(\"Accuracy : \",accuracy_score(y_test, predict_y)*100, \"%\")\n",
    "    print(\"F1 score :\", f1_score(y_test, predict_y)*100, \"%\")\n",
    "    print(\"Precision :\", precision_score(y_test, predict_y)*100, \"%\")\n",
    "    print(\"Recall :\", recall_score(y_test, predict_y)*100, \"%\")\n",
    "\n",
    "    return clf\n"
   ]
  },
  {
   "cell_type": "markdown",
   "metadata": {},
   "source": [
    "### Unigram"
   ]
  },
  {
   "cell_type": "code",
   "execution_count": 19,
   "metadata": {},
   "outputs": [
    {
     "name": "stdout",
     "output_type": "stream",
     "text": [
      "Accuracy :  74.38884629020423 %\n",
      "F1 score : 61.11924699285293 %\n",
      "Precision : 69.84494793454628 %\n",
      "Recall : 54.33161982330819 %\n"
     ]
    }
   ],
   "source": [
    "clf = pickle.load(open(\"./models/analysis3/lr_unigram_unprocessed.pkl\", \"rb\"))\n",
    "_, X_test, _, y_test = get_ngram_embedding(train)\n",
    "predict_y = clf.predict(X_test)\n",
    "print(\"Accuracy : \",accuracy_score(y_test, predict_y)*100, \"%\")\n",
    "print(\"F1 score :\", f1_score(y_test, predict_y)*100, \"%\")\n",
    "print(\"Precision :\", precision_score(y_test, predict_y)*100, \"%\")\n",
    "print(\"Recall :\", recall_score(y_test, predict_y)*100, \"%\")\n",
    "\n",
    "# clf = logistic_regression()\n",
    "# pickle.dump(clf, open(\"./models/analysis3/lr_unigram_unprocessed.pkl\", \"wb\"))"
   ]
  },
  {
   "cell_type": "markdown",
   "metadata": {},
   "source": [
    "### Bigram"
   ]
  },
  {
   "cell_type": "code",
   "execution_count": 20,
   "metadata": {},
   "outputs": [
    {
     "name": "stdout",
     "output_type": "stream",
     "text": [
      "Accuracy :  73.88508249029162 %\n",
      "F1 score : 58.511474379126064 %\n",
      "Precision : 71.114719648486 %\n",
      "Recall : 49.70291741771814 %\n"
     ]
    }
   ],
   "source": [
    "clf = pickle.load(open(\"./models/analysis3/lr_bigram_unprocessed.pkl\", \"rb\"))\n",
    "_, X_test, _, y_test = get_ngram_embedding(train, (2,2))\n",
    "predict_y = clf.predict(X_test)\n",
    "print(\"Accuracy : \",accuracy_score(y_test, predict_y)*100, \"%\")\n",
    "print(\"F1 score :\", f1_score(y_test, predict_y)*100, \"%\")\n",
    "print(\"Precision :\", precision_score(y_test, predict_y)*100, \"%\")\n",
    "print(\"Recall :\", recall_score(y_test, predict_y)*100, \"%\")\n",
    "\n",
    "# clf = logistic_regression((2,2))\n",
    "# pickle.dump(clf, open(\"./models/analysis3/lr_bigram_unprocessed.pkl\", \"wb\"))"
   ]
  },
  {
   "cell_type": "markdown",
   "metadata": {},
   "source": [
    "### Trigram"
   ]
  },
  {
   "cell_type": "code",
   "execution_count": 21,
   "metadata": {},
   "outputs": [
    {
     "name": "stdout",
     "output_type": "stream",
     "text": [
      "Accuracy :  72.8239629968587 %\n",
      "F1 score : 54.00298636598333 %\n",
      "Precision : 72.40850235760796 %\n",
      "Recall : 43.05805906046242 %\n"
     ]
    }
   ],
   "source": [
    "clf = pickle.load(open(\"./models/analysis3/lr_trigram_unprocessed.pkl\", \"rb\"))\n",
    "_, X_test, _, y_test = get_ngram_embedding(train, (3,3))\n",
    "predict_y = clf.predict(X_test)\n",
    "print(\"Accuracy : \",accuracy_score(y_test, predict_y)*100, \"%\")\n",
    "print(\"F1 score :\", f1_score(y_test, predict_y)*100, \"%\")\n",
    "print(\"Precision :\", precision_score(y_test, predict_y)*100, \"%\")\n",
    "print(\"Recall :\", recall_score(y_test, predict_y)*100, \"%\")\n",
    "\n",
    "\n",
    "# clf = logistic_regression((3,3))\n",
    "# pickle.dump(clf, open(\"./models/analysis3/lr_trigram_unprocessed.pkl\", \"wb\"))"
   ]
  },
  {
   "cell_type": "markdown",
   "metadata": {},
   "source": [
    "## SVM"
   ]
  },
  {
   "cell_type": "code",
   "execution_count": 9,
   "metadata": {},
   "outputs": [],
   "source": [
    "\n",
    "def svm(ngram = (1,1), kernel = \"linear\"):\n",
    "    global train\n",
    "\n",
    "    tfidf = TfidfVectorizer(analyzer='word', max_features=100, token_pattern=r'\\w{1,}', ngram_range=ngram)\n",
    "\n",
    "    q1word_trans = tfidf.fit_transform(train['question1'].values)\n",
    "    q2word_trans = tfidf.fit_transform(train['question2'].values)\n",
    "\n",
    "    X = scipy.sparse.hstack((q1word_trans,q2word_trans))\n",
    "    y = y_true\n",
    "    \n",
    "    X_train,X_test,y_train,y_test = train_test_split(X,y, test_size = 0.3, random_state = 42)\n",
    "\n",
    "    clf = SVC(gamma='auto', kernel=kernel)\n",
    "    clf.fit(X_train, y_train)\n",
    "    # predict_y = clf.predict_proba(X_test)\n",
    "    # print(\"Log loss:\", log_loss(y_test, predict_y, labels = clf.classes_))\n",
    "\n",
    "    predict_y = clf.predict(X_test)\n",
    "    print(\"Confusion Matrix\", confusion_matrix(y_test, predict_y))\n",
    "    print(\"Accuracy : \",accuracy_score(y_test, predict_y)*100, \"%\")\n",
    "    print(\"F1 score :\", f1_score(y_test, predict_y)*100, \"%\")\n",
    "\n",
    "    return clf\n"
   ]
  },
  {
   "cell_type": "markdown",
   "metadata": {},
   "source": [
    "### Unigram"
   ]
  },
  {
   "cell_type": "code",
   "execution_count": null,
   "metadata": {},
   "outputs": [],
   "source": [
    "clf = svm()\n",
    "import pickle\n",
    "pickle.dump(clf, open(\"./models/analysis3/svm_unigram_linear.pkl\", \"wb\"))"
   ]
  }
 ],
 "metadata": {
  "interpreter": {
   "hash": "48cb8e7cdb11ca655815c41ac34bed6720108475fb3aac9b379c032798fb60bc"
  },
  "kernelspec": {
   "display_name": "Python 3.8.3 64-bit ('venv': venv)",
   "language": "python",
   "name": "python3"
  },
  "language_info": {
   "codemirror_mode": {
    "name": "ipython",
    "version": 3
   },
   "file_extension": ".py",
   "mimetype": "text/x-python",
   "name": "python",
   "nbconvert_exporter": "python",
   "pygments_lexer": "ipython3",
   "version": "3.8.3"
  },
  "orig_nbformat": 4
 },
 "nbformat": 4,
 "nbformat_minor": 2
}

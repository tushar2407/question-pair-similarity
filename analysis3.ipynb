{
 "cells": [
  {
   "cell_type": "code",
   "execution_count": 1,
   "metadata": {},
   "outputs": [],
   "source": [
    "import pandas as pd\n",
    "import numpy as np\n",
    "import matplotlib.pyplot as plt\n",
    "import xgboost as xgb\n",
    "import seaborn as sns\n",
    "import pickle\n",
    "from sklearn.model_selection import train_test_split\n",
    "from sklearn.metrics import (\n",
    "    confusion_matrix, normalized_mutual_info_score, \n",
    "    precision_recall_curve, auc, roc_curve, \n",
    "    accuracy_score, log_loss, f1_score\n",
    ")\n",
    "from sklearn.linear_model import LogisticRegression, SGDClassifier\n",
    "from sklearn.calibration import CalibratedClassifierCV\n",
    "from sklearn.feature_extraction.text import CountVectorizer, TfidfVectorizer\n",
    "\n",
    "from collections import Counter, defaultdict\n",
    "import scipy\n",
    "import numpy as np\n",
    "from sklearn.pipeline import make_pipeline\n",
    "from sklearn.preprocessing import StandardScaler\n",
    "from sklearn.svm import SVC\n"
   ]
  },
  {
   "cell_type": "code",
   "execution_count": 2,
   "metadata": {},
   "outputs": [
    {
     "data": {
      "text/html": [
       "<div>\n",
       "<style scoped>\n",
       "    .dataframe tbody tr th:only-of-type {\n",
       "        vertical-align: middle;\n",
       "    }\n",
       "\n",
       "    .dataframe tbody tr th {\n",
       "        vertical-align: top;\n",
       "    }\n",
       "\n",
       "    .dataframe thead th {\n",
       "        text-align: right;\n",
       "    }\n",
       "</style>\n",
       "<table border=\"1\" class=\"dataframe\">\n",
       "  <thead>\n",
       "    <tr style=\"text-align: right;\">\n",
       "      <th></th>\n",
       "      <th>id</th>\n",
       "      <th>qid1</th>\n",
       "      <th>qid2</th>\n",
       "      <th>question1</th>\n",
       "      <th>question2</th>\n",
       "      <th>is_duplicate</th>\n",
       "    </tr>\n",
       "  </thead>\n",
       "  <tbody>\n",
       "    <tr>\n",
       "      <th>0</th>\n",
       "      <td>0</td>\n",
       "      <td>1</td>\n",
       "      <td>2</td>\n",
       "      <td>What is the step by step guide to invest in sh...</td>\n",
       "      <td>What is the step by step guide to invest in sh...</td>\n",
       "      <td>0</td>\n",
       "    </tr>\n",
       "    <tr>\n",
       "      <th>1</th>\n",
       "      <td>1</td>\n",
       "      <td>3</td>\n",
       "      <td>4</td>\n",
       "      <td>What is the story of Kohinoor (Koh-i-Noor) Dia...</td>\n",
       "      <td>What would happen if the Indian government sto...</td>\n",
       "      <td>0</td>\n",
       "    </tr>\n",
       "    <tr>\n",
       "      <th>2</th>\n",
       "      <td>2</td>\n",
       "      <td>5</td>\n",
       "      <td>6</td>\n",
       "      <td>How can I increase the speed of my internet co...</td>\n",
       "      <td>How can Internet speed be increased by hacking...</td>\n",
       "      <td>0</td>\n",
       "    </tr>\n",
       "    <tr>\n",
       "      <th>3</th>\n",
       "      <td>3</td>\n",
       "      <td>7</td>\n",
       "      <td>8</td>\n",
       "      <td>Why am I mentally very lonely? How can I solve...</td>\n",
       "      <td>Find the remainder when [math]23^{24}[/math] i...</td>\n",
       "      <td>0</td>\n",
       "    </tr>\n",
       "    <tr>\n",
       "      <th>4</th>\n",
       "      <td>4</td>\n",
       "      <td>9</td>\n",
       "      <td>10</td>\n",
       "      <td>Which one dissolve in water quikly sugar, salt...</td>\n",
       "      <td>Which fish would survive in salt water?</td>\n",
       "      <td>0</td>\n",
       "    </tr>\n",
       "  </tbody>\n",
       "</table>\n",
       "</div>"
      ],
      "text/plain": [
       "   id  qid1  qid2                                          question1  \\\n",
       "0   0     1     2  What is the step by step guide to invest in sh...   \n",
       "1   1     3     4  What is the story of Kohinoor (Koh-i-Noor) Dia...   \n",
       "2   2     5     6  How can I increase the speed of my internet co...   \n",
       "3   3     7     8  Why am I mentally very lonely? How can I solve...   \n",
       "4   4     9    10  Which one dissolve in water quikly sugar, salt...   \n",
       "\n",
       "                                           question2  is_duplicate  \n",
       "0  What is the step by step guide to invest in sh...             0  \n",
       "1  What would happen if the Indian government sto...             0  \n",
       "2  How can Internet speed be increased by hacking...             0  \n",
       "3  Find the remainder when [math]23^{24}[/math] i...             0  \n",
       "4            Which fish would survive in salt water?             0  "
      ]
     },
     "execution_count": 2,
     "metadata": {},
     "output_type": "execute_result"
    }
   ],
   "source": [
    "BASE_DIR = './dataset/'\n",
    "# train = pd.read_csv(f'{BASE_DIR}train_preprocessed.csv')\n",
    "train = pd.read_csv(f'{BASE_DIR}train.csv')\n",
    "train.fillna(\"\", inplace=True)\n",
    "train.head()"
   ]
  },
  {
   "cell_type": "code",
   "execution_count": 3,
   "metadata": {},
   "outputs": [
    {
     "name": "stdout",
     "output_type": "stream",
     "text": [
      "(404290, 4)\n"
     ]
    }
   ],
   "source": [
    "y_true = train['is_duplicate']\n",
    "train.drop(['id','is_duplicate'], axis=1, inplace=True)\n",
    "print(train.shape)"
   ]
  },
  {
   "cell_type": "code",
   "execution_count": 4,
   "metadata": {},
   "outputs": [
    {
     "name": "stdout",
     "output_type": "stream",
     "text": [
      "(283003, 4) (121287, 4) (283003,) (121287,)\n"
     ]
    }
   ],
   "source": [
    "X_train, X_test, y_train, y_test = train_test_split(train, y_true, stratify = y_true, test_size = 0.3)\n",
    "print(X_train.shape, X_test.shape, y_train.shape, y_test.shape)"
   ]
  },
  {
   "cell_type": "code",
   "execution_count": 5,
   "metadata": {},
   "outputs": [],
   "source": [
    "# ## copied\n",
    "# print(\"-\"*10, \"Distribution of output variable in train data\", \"-\"*10)\n",
    "# train_distr = Counter(y_train)\n",
    "# train_len = len(y_train)\n",
    "# print(\"Class 0: \",int(train_distr[0])/train_len,\"Class 1: \", int(train_distr[1])/train_len)\n",
    "# print(\"-\"*10, \"Distribution of output variable in train data\", \"-\"*10)\n",
    "# test_distr = Counter(y_test)\n",
    "# test_len = len(y_test)\n",
    "# print(\"Class 0: \",int(test_distr[1])/test_len, \"Class 1: \",int(test_distr[1])/test_len)"
   ]
  },
  {
   "cell_type": "code",
   "execution_count": 6,
   "metadata": {},
   "outputs": [],
   "source": [
    "## copied directly\n",
    "# This function plots the confusion matrices given y_i, y_i_hat.\n",
    "def plot_confusion_matrix(test_y, predict_y):\n",
    "    \"\"\"\n",
    "    This function uses Seaborn Heatmap(s) to plot 3 different matrices. It plots the \n",
    "    Confusion Matrix, Precision Matrix and the Recall Matrix. The confusion matrix is as usual.\n",
    "    In the Precision Matrix, the sum of the values in each column is 1. Similarly, in the\n",
    "    Recall Matrix, the sum of the values in each row is 1.\n",
    "    \"\"\"\n",
    "    \n",
    "    C = confusion_matrix(test_y, predict_y)\n",
    "    # Divide each element of the confusion matrix with the sum of elements in that column\n",
    "    A = (((C.T)/(C.sum(axis=1))).T)\n",
    "    # Divide each element of the confusion matrix with the sum of elements in that row\n",
    "    B = (C/C.sum(axis=0))\n",
    "\n",
    "    plt.figure(figsize=(12,10))\n",
    "    \n",
    "    labels = [0,1]\n",
    "    cmap=sns.light_palette(\"blue\")\n",
    "    \n",
    "    # Representing C in heatmap format\n",
    "    plt.subplot(2, 2, 1)\n",
    "    sns.heatmap(C, annot=True, cmap=cmap, fmt=\".3f\", xticklabels=labels, yticklabels=labels)\n",
    "    plt.xlabel('Predicted Class')\n",
    "    plt.ylabel('Original Class')\n",
    "    plt.title(\"Confusion matrix\")\n",
    "    \n",
    "    # Representing B in heatmap format\n",
    "    plt.subplot(2, 2, 2)\n",
    "    sns.heatmap(B, annot=True, cmap=cmap, fmt=\".3f\", xticklabels=labels, yticklabels=labels)\n",
    "    plt.xlabel('Predicted Class')\n",
    "    plt.ylabel('Original Class')\n",
    "    plt.title(\"Precision matrix\")\n",
    "    \n",
    "    # Representing A in heatmap format\n",
    "    plt.subplot(2, 2, 3)\n",
    "    sns.heatmap(A, annot=True, cmap=cmap, fmt=\".3f\", xticklabels=labels, yticklabels=labels)\n",
    "    plt.xlabel('Predicted Class')\n",
    "    plt.ylabel('Original Class')\n",
    "    plt.title(\"Recall matrix\")\n",
    "    \n",
    "    plt.show()"
   ]
  },
  {
   "cell_type": "code",
   "execution_count": 7,
   "metadata": {},
   "outputs": [],
   "source": [
    "# predicted_y = np.zeros((test_len, 2))\n",
    "# for i in range(test_len):\n",
    "#     rand_probs = np.random.rand(1,2)\n",
    "#     predicted_y[i] = ((rand_probs / sum(sum(rand_probs)))[0])\n",
    "# print(\"Log loss on Test Data using Random Model\", log_loss(y_test, predicted_y, eps=1e-15))\n",
    "\n",
    "# predicted_y = np.argmax(predicted_y, axis=1)\n",
    "# plot_confusion_matrix(y_test, predicted_y)"
   ]
  },
  {
   "cell_type": "markdown",
   "metadata": {},
   "source": [
    "## Logistic Regression"
   ]
  },
  {
   "cell_type": "code",
   "execution_count": 8,
   "metadata": {},
   "outputs": [],
   "source": [
    "def logistic_regression(ngram = (1,1)):\n",
    "    global train\n",
    "\n",
    "    tfidf = TfidfVectorizer(analyzer='word', max_features=5000, token_pattern=r'\\w{1,}', ngram_range=ngram)\n",
    "\n",
    "    q1word_trans = tfidf.fit_transform(train['question1'].values)\n",
    "    q2word_trans = tfidf.fit_transform(train['question2'].values)\n",
    "\n",
    "    X = scipy.sparse.hstack((q1word_trans,q2word_trans))\n",
    "    y = y_true\n",
    "    \n",
    "    X_train,X_test,y_train,y_test = train_test_split(X,y, test_size = 0.3, random_state = 42)\n",
    "\n",
    "    clf = LogisticRegression(random_state=42, max_iter = 1000)\n",
    "    clf.fit(X_train, y_train)\n",
    "    predict_y = clf.predict_proba(X_test)\n",
    "    print(\"Log loss:\", log_loss(y_test, predict_y, labels = clf.classes_))\n",
    "\n",
    "    predict_y = clf.predict(X_test)\n",
    "    print(\"Confusion Matrix\", confusion_matrix(y_test, predict_y))\n",
    "    print(\"Accuracy : \",accuracy_score(y_test, predict_y)*100, \"%\")\n",
    "    print(\"F1 score :\", f1_score(y_test, predict_y)*100, \"%\")\n",
    "\n",
    "    return clf\n"
   ]
  },
  {
   "cell_type": "markdown",
   "metadata": {},
   "source": [
    "### Unigram"
   ]
  },
  {
   "cell_type": "code",
   "execution_count": 9,
   "metadata": {},
   "outputs": [
    {
     "name": "stdout",
     "output_type": "stream",
     "text": [
      "Log loss: 0.520801687372479\n",
      "Confusion Matrix [[65809 10541]\n",
      " [20522 24415]]\n",
      "Accuracy :  74.38884629020423 %\n",
      "F1 score : 61.11924699285293 %\n"
     ]
    }
   ],
   "source": [
    "# predict_y = clf.predict(X_test)\n",
    "# print(\"Confusion Matrix\", confusion_matrix(y_test, predict_y))\n",
    "# print(\"Accuracy : \",accuracy_score(y_test, predict_y)*100, \"%\")\n",
    "# print(\"F1 score :\", f1_score(y_test, predict_y)*100, \"%\")\n",
    "clf = logistic_regression()\n",
    "import pickle\n",
    "pickle.dump(clf, open(\"./models/analysis3/lr_unigram_unprocessed.pkl\", \"wb\"))"
   ]
  },
  {
   "cell_type": "markdown",
   "metadata": {},
   "source": [
    "### Bigram"
   ]
  },
  {
   "cell_type": "code",
   "execution_count": 10,
   "metadata": {},
   "outputs": [
    {
     "name": "stdout",
     "output_type": "stream",
     "text": [
      "Log loss: 0.5289804276529088\n",
      "Confusion Matrix [[67278  9072]\n",
      " [22602 22335]]\n",
      "Accuracy :  73.88508249029162 %\n",
      "F1 score : 58.511474379126064 %\n"
     ]
    }
   ],
   "source": [
    "clf = logistic_regression((2,2))\n",
    "import pickle\n",
    "pickle.dump(clf, open(\"./models/analysis3/lr_bigram_unprocessed.pkl\", \"wb\"))"
   ]
  },
  {
   "cell_type": "markdown",
   "metadata": {},
   "source": [
    "### Trigram"
   ]
  },
  {
   "cell_type": "code",
   "execution_count": 11,
   "metadata": {},
   "outputs": [
    {
     "name": "stdout",
     "output_type": "stream",
     "text": [
      "Log loss: 0.5466758742345608\n",
      "Confusion Matrix [[68977  7373]\n",
      " [25588 19349]]\n",
      "Accuracy :  72.8239629968587 %\n",
      "F1 score : 54.00298636598333 %\n"
     ]
    }
   ],
   "source": [
    "clf = logistic_regression((3,3))\n",
    "import pickle\n",
    "pickle.dump(clf, open(\"./models/analysis3/lr_trigram_unprocessed.pkl\", \"wb\"))"
   ]
  },
  {
   "cell_type": "code",
   "execution_count": 20,
   "metadata": {},
   "outputs": [],
   "source": [
    "# Loading the Model\n",
    "# sig_clf = pickle.load(open('./models/analysis3/logistic_regression.pkl', \"rb\"))"
   ]
  },
  {
   "cell_type": "code",
   "execution_count": 19,
   "metadata": {},
   "outputs": [
    {
     "name": "stdout",
     "output_type": "stream",
     "text": [
      "Best Alpha: 0.01, Train log loss: 0.5831339326495873\n",
      "Best Alpha: 0.01, Test log loss: 0.5876469361328506\n",
      "Total number of data points: 121305\n"
     ]
    },
    {
     "data": {
      "image/png": "[encoded data removed]",
      "text/plain": [
       "<Figure size 864x720 with 6 Axes>"
      ]
     },
     "metadata": {
      "needs_background": "light"
     },
     "output_type": "display_data"
    }
   ],
   "source": [
    "predict_y = clf.predict_proba(X_train)\n",
    "print(\"Best Alpha: 0.01, Train log loss:\",log_loss(y_train, predict_y, labels=clf.classes_))\n",
    "predict_y = clf.predict_proba(X_test)\n",
    "print(\"Best Alpha: 0.01, Test log loss:\",log_loss(y_test, predict_y, labels=clf.classes_))\n",
    "predicted_y = np.argmax(predict_y, axis=1)\n",
    "print(\"Total number of data points:\", len(predicted_y))\n",
    "plot_confusion_matrix(y_test, predicted_y)"
   ]
  },
  {
   "cell_type": "markdown",
   "metadata": {},
   "source": [
    "## SVM"
   ]
  },
  {
   "cell_type": "code",
   "execution_count": 9,
   "metadata": {},
   "outputs": [],
   "source": [
    "\n",
    "def svm(ngram = (1,1), kernel = \"linear\"):\n",
    "    global train\n",
    "\n",
    "    tfidf = TfidfVectorizer(analyzer='word', max_features=100, token_pattern=r'\\w{1,}', ngram_range=ngram)\n",
    "\n",
    "    q1word_trans = tfidf.fit_transform(train['question1'].values)\n",
    "    q2word_trans = tfidf.fit_transform(train['question2'].values)\n",
    "\n",
    "    X = scipy.sparse.hstack((q1word_trans,q2word_trans))\n",
    "    y = y_true\n",
    "    \n",
    "    X_train,X_test,y_train,y_test = train_test_split(X,y, test_size = 0.3, random_state = 42)\n",
    "\n",
    "    clf = SVC(gamma='auto', kernel=kernel)\n",
    "    clf.fit(X_train, y_train)\n",
    "    # predict_y = clf.predict_proba(X_test)\n",
    "    # print(\"Log loss:\", log_loss(y_test, predict_y, labels = clf.classes_))\n",
    "\n",
    "    predict_y = clf.predict(X_test)\n",
    "    print(\"Confusion Matrix\", confusion_matrix(y_test, predict_y))\n",
    "    print(\"Accuracy : \",accuracy_score(y_test, predict_y)*100, \"%\")\n",
    "    print(\"F1 score :\", f1_score(y_test, predict_y)*100, \"%\")\n",
    "\n",
    "    return clf\n"
   ]
  },
  {
   "cell_type": "markdown",
   "metadata": {},
   "source": [
    "### Unigram"
   ]
  },
  {
   "cell_type": "code",
   "execution_count": null,
   "metadata": {},
   "outputs": [],
   "source": [
    "clf = svm()\n",
    "import pickle\n",
    "pickle.dump(clf, open(\"./models/analysis3/svm_unigram_linear.pkl\", \"wb\"))"
   ]
  },
  {
   "cell_type": "code",
   "execution_count": null,
   "metadata": {},
   "outputs": [],
   "source": [
    "# predict_y = sig_clf.predict_proba(X_train)\n",
    "# print(\"Best Alpha: 0.01, Train log loss:\", log_loss(y_train, predict_y, labels=sig_clf.classes_))\n",
    "# predict_y = sig_clf.predict_proba(X_test)\n",
    "# print(\"Best Alpha: 0.01, Test log loss:\", log_loss(y_test, predict_y, labels=sig_clf.classes_))\n",
    "# predicted_y = np.argmax(predict_y, axis=1)\n",
    "# print(\"Total number of data points:\", len(predicted_y))\n",
    "# plot_confusion_matrix(y_test, predicted_y)"
   ]
  },
  {
   "cell_type": "markdown",
   "metadata": {},
   "source": [
    "### XGBoost"
   ]
  },
  {
   "cell_type": "code",
   "execution_count": 27,
   "metadata": {},
   "outputs": [
    {
     "name": "stderr",
     "output_type": "stream",
     "text": [
      "d:\\college\\Sem_5\\NLP\\Project\\venv\\lib\\site-packages\\xgboost\\sklearn.py:1224: UserWarning: The use of label encoder in XGBClassifier is deprecated and will be removed in a future release. To remove this warning, do the following: 1) Pass option use_label_encoder=False when constructing XGBClassifier object; and 2) Encode your labels (y) as integers starting with 0, i.e. 0, 1, 2, ..., [num_class - 1].\n",
      "  warnings.warn(label_encoder_deprecation_msg, UserWarning)\n"
     ]
    },
    {
     "data": {
      "text/plain": [
       "XGBClassifier(base_score=0.5, booster='gbtree', colsample_bylevel=1,\n",
       "              colsample_bynode=1, colsample_bytree=1, enable_categorical=False,\n",
       "              eval_metric='logloss', gamma=0, gpu_id=-1, importance_type=None,\n",
       "              interaction_constraints='', learning_rate=0.300000012,\n",
       "              max_delta_step=0, max_depth=15, min_child_weight=1, missing=nan,\n",
       "              monotone_constraints='()', n_estimators=150, n_jobs=8,\n",
       "              num_parallel_tree=1, predictor='auto', random_state=0,\n",
       "              reg_alpha=0, reg_lambda=1, scale_pos_weight=1, subsample=1,\n",
       "              tree_method='exact', validate_parameters=1, verbosity=1)"
      ]
     },
     "execution_count": 27,
     "metadata": {},
     "output_type": "execute_result"
    }
   ],
   "source": [
    "xgbr = xgb.XGBClassifier(verbosity = 1, n_estimators = 150, max_depth = 15, \n",
    "    objective = 'binary:logistic', eval_metric = 'logloss')\n",
    "xgbr.fit(X_train, y_train)"
   ]
  },
  {
   "cell_type": "code",
   "execution_count": 28,
   "metadata": {},
   "outputs": [],
   "source": [
    "# Saving the Model\n",
    "pickle.dump(xgbr, open('./models/analysis3/xg_boost.pkl', 'wb'))"
   ]
  },
  {
   "cell_type": "code",
   "execution_count": 29,
   "metadata": {},
   "outputs": [
    {
     "name": "stdout",
     "output_type": "stream",
     "text": [
      "n_estimators: , max_depth: , Train log loss: 0.31752348074457937\n",
      "n_estimators: , max_depth: , Test log loss: 0.4445936903539542\n",
      "Total number of data points: 121287\n"
     ]
    },
    {
     "data": {
      "image/png": "[encoded data removed]",
      "text/plain": [
       "<Figure size 864x720 with 6 Axes>"
      ]
     },
     "metadata": {
      "needs_background": "light"
     },
     "output_type": "display_data"
    }
   ],
   "source": [
    "predict_y = xgbr.predict_proba(X_train)\n",
    "print(\"n_estimators: , max_depth: , Train log loss:\", log_loss(y_train, predict_y, labels=[0,1]))\n",
    "predict_y = xgbr.predict_proba(X_test)\n",
    "print(\"n_estimators: , max_depth: , Test log loss:\", log_loss(y_test, predict_y, labels=[0,1]))\n",
    "predicted_y = np.argmax(predict_y, axis=1)\n",
    "print(\"Total number of data points:\", len(predicted_y))\n",
    "plot_confusion_matrix(y_test, predicted_y)"
   ]
  },
  {
   "cell_type": "code",
   "execution_count": null,
   "metadata": {},
   "outputs": [],
   "source": []
  }
 ],
 "metadata": {
  "interpreter": {
   "hash": "48cb8e7cdb11ca655815c41ac34bed6720108475fb3aac9b379c032798fb60bc"
  },
  "kernelspec": {
   "display_name": "Python 3.8.3 64-bit ('venv': venv)",
   "language": "python",
   "name": "python3"
  },
  "language_info": {
   "codemirror_mode": {
    "name": "ipython",
    "version": 3
   },
   "file_extension": ".py",
   "mimetype": "text/x-python",
   "name": "python",
   "nbconvert_exporter": "python",
   "pygments_lexer": "ipython3",
   "version": "3.8.3"
  },
  "orig_nbformat": 4
 },
 "nbformat": 4,
 "nbformat_minor": 2
}

{
  "nbformat": 4,
  "nbformat_minor": 0,
  "metadata": {
    "colab": {
      "name": "NLP_Project_Pulkit.ipynb",
      "provenance": [],
      "collapsed_sections": []
    },
    "kernelspec": {
      "name": "python3",
      "display_name": "Python 3"
    },
    "language_info": {
      "name": "python"
    }
  },
  "cells": [
    {
      "cell_type": "markdown",
      "metadata": {
        "id": "a-_KuIJyVXCt"
      },
      "source": [
        "## 1. Imports and Fetch Dataset"
      ]
    },
    {
      "cell_type": "code",
      "metadata": {
        "id": "NWmP6ED-7sTq"
      },
      "source": [
        "from pydrive.auth import GoogleAuth\n",
        "from pydrive.drive import GoogleDrive\n",
        "from google.colab import auth\n",
        "from oauth2client.client import GoogleCredentials"
      ],
      "execution_count": 1,
      "outputs": []
    },
    {
      "cell_type": "code",
      "metadata": {
        "id": "cfbbTztSiUxw"
      },
      "source": [
        "auth.authenticate_user()\n",
        "gauth = GoogleAuth()\n",
        "gauth.credentials = GoogleCredentials.get_application_default()\n",
        "drive = GoogleDrive(gauth)\n",
        "file_id1 = '1Bmmc5fTi6fy1MMFBkRG6o_eGLOMtjeWL'\n",
        "downloaded = drive.CreateFile({'id': file_id1})\n",
        "downloaded.GetContentFile('questions.csv')"
      ],
      "execution_count": 2,
      "outputs": []
    },
    {
      "cell_type": "markdown",
      "metadata": {
        "id": "7DoGxvhrY7lL"
      },
      "source": [
        "## 2. Imports"
      ]
    },
    {
      "cell_type": "code",
      "metadata": {
        "id": "XEaj3_hPY9uB",
        "colab": {
          "base_uri": "https://localhost:8080/"
        },
        "outputId": "e5585140-3da2-47d3-fe07-013f17677508"
      },
      "source": [
        "! pip install contractions\n",
        "! pip install nltk\n",
        "! pip install fuzzywuzzy\n",
        "! pip install python-Levenshtein\n",
        "\n",
        "import nltk\n",
        "import contractions\n",
        "import pandas as pd\n",
        "import seaborn as sns\n",
        "import matplotlib.pyplot as plt\n",
        "import re\n",
        "import numpy as np \n",
        "from fuzzywuzzy import fuzz\n",
        "from fuzzywuzzy import process\n",
        "\n",
        "nltk.download('all')"
      ],
      "execution_count": 3,
      "outputs": [
        {
          "output_type": "stream",
          "name": "stdout",
          "text": [
            "Collecting contractions\n",
            "  Downloading contractions-0.0.58-py2.py3-none-any.whl (8.0 kB)\n",
            "Collecting textsearch>=0.0.21\n",
            "  Downloading textsearch-0.0.21-py2.py3-none-any.whl (7.5 kB)\n",
            "Collecting anyascii\n",
            "  Downloading anyascii-0.3.0-py3-none-any.whl (284 kB)\n",
            "\u001b[?25l\r\u001b[K     |█▏                              | 10 kB 30.8 MB/s eta 0:00:01\r\u001b[K     |██▎                             | 20 kB 31.2 MB/s eta 0:00:01\r\u001b[K     |███▌                            | 30 kB 35.8 MB/s eta 0:00:01\r\u001b[K     |████▋                           | 40 kB 28.0 MB/s eta 0:00:01\r\u001b[K     |█████▊                          | 51 kB 8.0 MB/s eta 0:00:01\r\u001b[K     |███████                         | 61 kB 9.4 MB/s eta 0:00:01\r\u001b[K     |████████                        | 71 kB 9.2 MB/s eta 0:00:01\r\u001b[K     |█████████▏                      | 81 kB 9.7 MB/s eta 0:00:01\r\u001b[K     |██████████▍                     | 92 kB 10.7 MB/s eta 0:00:01\r\u001b[K     |███████████▌                    | 102 kB 8.7 MB/s eta 0:00:01\r\u001b[K     |████████████▊                   | 112 kB 8.7 MB/s eta 0:00:01\r\u001b[K     |█████████████▉                  | 122 kB 8.7 MB/s eta 0:00:01\r\u001b[K     |███████████████                 | 133 kB 8.7 MB/s eta 0:00:01\r\u001b[K     |████████████████▏               | 143 kB 8.7 MB/s eta 0:00:01\r\u001b[K     |█████████████████▎              | 153 kB 8.7 MB/s eta 0:00:01\r\u001b[K     |██████████████████▍             | 163 kB 8.7 MB/s eta 0:00:01\r\u001b[K     |███████████████████▋            | 174 kB 8.7 MB/s eta 0:00:01\r\u001b[K     |████████████████████▊           | 184 kB 8.7 MB/s eta 0:00:01\r\u001b[K     |██████████████████████          | 194 kB 8.7 MB/s eta 0:00:01\r\u001b[K     |███████████████████████         | 204 kB 8.7 MB/s eta 0:00:01\r\u001b[K     |████████████████████████▏       | 215 kB 8.7 MB/s eta 0:00:01\r\u001b[K     |█████████████████████████▍      | 225 kB 8.7 MB/s eta 0:00:01\r\u001b[K     |██████████████████████████▌     | 235 kB 8.7 MB/s eta 0:00:01\r\u001b[K     |███████████████████████████▋    | 245 kB 8.7 MB/s eta 0:00:01\r\u001b[K     |████████████████████████████▉   | 256 kB 8.7 MB/s eta 0:00:01\r\u001b[K     |██████████████████████████████  | 266 kB 8.7 MB/s eta 0:00:01\r\u001b[K     |███████████████████████████████▏| 276 kB 8.7 MB/s eta 0:00:01\r\u001b[K     |████████████████████████████████| 284 kB 8.7 MB/s \n",
            "\u001b[?25hCollecting pyahocorasick\n",
            "  Downloading pyahocorasick-1.4.2.tar.gz (321 kB)\n",
            "\u001b[K     |████████████████████████████████| 321 kB 12.7 MB/s \n",
            "\u001b[?25hBuilding wheels for collected packages: pyahocorasick\n",
            "  Building wheel for pyahocorasick (setup.py) ... \u001b[?25l\u001b[?25hdone\n",
            "  Created wheel for pyahocorasick: filename=pyahocorasick-1.4.2-cp37-cp37m-linux_x86_64.whl size=85453 sha256=d8aa3af231ea815e46f4c1bbcf81ebc03e981ea622ada74e841f835568a0b21d\n",
            "  Stored in directory: /root/.cache/pip/wheels/25/19/a6/8f363d9939162782bb8439d886469756271abc01f76fbd790f\n",
            "Successfully built pyahocorasick\n",
            "Installing collected packages: pyahocorasick, anyascii, textsearch, contractions\n",
            "Successfully installed anyascii-0.3.0 contractions-0.0.58 pyahocorasick-1.4.2 textsearch-0.0.21\n",
            "Requirement already satisfied: nltk in /usr/local/lib/python3.7/dist-packages (3.2.5)\n",
            "Requirement already satisfied: six in /usr/local/lib/python3.7/dist-packages (from nltk) (1.15.0)\n",
            "Collecting fuzzywuzzy\n",
            "  Downloading fuzzywuzzy-0.18.0-py2.py3-none-any.whl (18 kB)\n",
            "Installing collected packages: fuzzywuzzy\n",
            "Successfully installed fuzzywuzzy-0.18.0\n",
            "Collecting python-Levenshtein\n",
            "  Downloading python-Levenshtein-0.12.2.tar.gz (50 kB)\n",
            "\u001b[K     |████████████████████████████████| 50 kB 3.7 MB/s \n",
            "\u001b[?25hRequirement already satisfied: setuptools in /usr/local/lib/python3.7/dist-packages (from python-Levenshtein) (57.4.0)\n",
            "Building wheels for collected packages: python-Levenshtein\n",
            "  Building wheel for python-Levenshtein (setup.py) ... \u001b[?25l\u001b[?25hdone\n",
            "  Created wheel for python-Levenshtein: filename=python_Levenshtein-0.12.2-cp37-cp37m-linux_x86_64.whl size=149870 sha256=bfa5d01e60710e7000dcd85ce8f0d9edd8886b1b6c0d31648fef42855524addf\n",
            "  Stored in directory: /root/.cache/pip/wheels/05/5f/ca/7c4367734892581bb5ff896f15027a932c551080b2abd3e00d\n",
            "Successfully built python-Levenshtein\n",
            "Installing collected packages: python-Levenshtein\n",
            "Successfully installed python-Levenshtein-0.12.2\n",
            "[nltk_data] Downloading collection 'all'\n",
            "[nltk_data]    | \n",
            "[nltk_data]    | Downloading package abc to /root/nltk_data...\n",
            "[nltk_data]    |   Unzipping corpora/abc.zip.\n",
            "[nltk_data]    | Downloading package alpino to /root/nltk_data...\n",
            "[nltk_data]    |   Unzipping corpora/alpino.zip.\n",
            "[nltk_data]    | Downloading package biocreative_ppi to\n",
            "[nltk_data]    |     /root/nltk_data...\n",
            "[nltk_data]    |   Unzipping corpora/biocreative_ppi.zip.\n",
            "[nltk_data]    | Downloading package brown to /root/nltk_data...\n",
            "[nltk_data]    |   Unzipping corpora/brown.zip.\n",
            "[nltk_data]    | Downloading package brown_tei to /root/nltk_data...\n",
            "[nltk_data]    |   Unzipping corpora/brown_tei.zip.\n",
            "[nltk_data]    | Downloading package cess_cat to /root/nltk_data...\n",
            "[nltk_data]    |   Unzipping corpora/cess_cat.zip.\n",
            "[nltk_data]    | Downloading package cess_esp to /root/nltk_data...\n",
            "[nltk_data]    |   Unzipping corpora/cess_esp.zip.\n",
            "[nltk_data]    | Downloading package chat80 to /root/nltk_data...\n",
            "[nltk_data]    |   Unzipping corpora/chat80.zip.\n",
            "[nltk_data]    | Downloading package city_database to\n",
            "[nltk_data]    |     /root/nltk_data...\n",
            "[nltk_data]    |   Unzipping corpora/city_database.zip.\n",
            "[nltk_data]    | Downloading package cmudict to /root/nltk_data...\n",
            "[nltk_data]    |   Unzipping corpora/cmudict.zip.\n",
            "[nltk_data]    | Downloading package comparative_sentences to\n",
            "[nltk_data]    |     /root/nltk_data...\n",
            "[nltk_data]    |   Unzipping corpora/comparative_sentences.zip.\n",
            "[nltk_data]    | Downloading package comtrans to /root/nltk_data...\n",
            "[nltk_data]    | Downloading package conll2000 to /root/nltk_data...\n",
            "[nltk_data]    |   Unzipping corpora/conll2000.zip.\n",
            "[nltk_data]    | Downloading package conll2002 to /root/nltk_data...\n",
            "[nltk_data]    |   Unzipping corpora/conll2002.zip.\n",
            "[nltk_data]    | Downloading package conll2007 to /root/nltk_data...\n",
            "[nltk_data]    | Downloading package crubadan to /root/nltk_data...\n",
            "[nltk_data]    |   Unzipping corpora/crubadan.zip.\n",
            "[nltk_data]    | Downloading package dependency_treebank to\n",
            "[nltk_data]    |     /root/nltk_data...\n",
            "[nltk_data]    |   Unzipping corpora/dependency_treebank.zip.\n",
            "[nltk_data]    | Downloading package dolch to /root/nltk_data...\n",
            "[nltk_data]    |   Unzipping corpora/dolch.zip.\n",
            "[nltk_data]    | Downloading package europarl_raw to\n",
            "[nltk_data]    |     /root/nltk_data...\n",
            "[nltk_data]    |   Unzipping corpora/europarl_raw.zip.\n",
            "[nltk_data]    | Downloading package floresta to /root/nltk_data...\n",
            "[nltk_data]    |   Unzipping corpora/floresta.zip.\n",
            "[nltk_data]    | Downloading package framenet_v15 to\n",
            "[nltk_data]    |     /root/nltk_data...\n",
            "[nltk_data]    |   Unzipping corpora/framenet_v15.zip.\n",
            "[nltk_data]    | Downloading package framenet_v17 to\n",
            "[nltk_data]    |     /root/nltk_data...\n",
            "[nltk_data]    |   Unzipping corpora/framenet_v17.zip.\n",
            "[nltk_data]    | Downloading package gazetteers to /root/nltk_data...\n",
            "[nltk_data]    |   Unzipping corpora/gazetteers.zip.\n",
            "[nltk_data]    | Downloading package genesis to /root/nltk_data...\n",
            "[nltk_data]    |   Unzipping corpora/genesis.zip.\n",
            "[nltk_data]    | Downloading package gutenberg to /root/nltk_data...\n",
            "[nltk_data]    |   Unzipping corpora/gutenberg.zip.\n",
            "[nltk_data]    | Downloading package ieer to /root/nltk_data...\n",
            "[nltk_data]    |   Unzipping corpora/ieer.zip.\n",
            "[nltk_data]    | Downloading package inaugural to /root/nltk_data...\n",
            "[nltk_data]    |   Unzipping corpora/inaugural.zip.\n",
            "[nltk_data]    | Downloading package indian to /root/nltk_data...\n",
            "[nltk_data]    |   Unzipping corpora/indian.zip.\n",
            "[nltk_data]    | Downloading package jeita to /root/nltk_data...\n",
            "[nltk_data]    | Downloading package kimmo to /root/nltk_data...\n",
            "[nltk_data]    |   Unzipping corpora/kimmo.zip.\n",
            "[nltk_data]    | Downloading package knbc to /root/nltk_data...\n",
            "[nltk_data]    | Downloading package lin_thesaurus to\n",
            "[nltk_data]    |     /root/nltk_data...\n",
            "[nltk_data]    |   Unzipping corpora/lin_thesaurus.zip.\n",
            "[nltk_data]    | Downloading package mac_morpho to /root/nltk_data...\n",
            "[nltk_data]    |   Unzipping corpora/mac_morpho.zip.\n",
            "[nltk_data]    | Downloading package machado to /root/nltk_data...\n",
            "[nltk_data]    | Downloading package masc_tagged to /root/nltk_data...\n",
            "[nltk_data]    | Downloading package moses_sample to\n",
            "[nltk_data]    |     /root/nltk_data...\n",
            "[nltk_data]    |   Unzipping models/moses_sample.zip.\n",
            "[nltk_data]    | Downloading package movie_reviews to\n",
            "[nltk_data]    |     /root/nltk_data...\n",
            "[nltk_data]    |   Unzipping corpora/movie_reviews.zip.\n",
            "[nltk_data]    | Downloading package names to /root/nltk_data...\n",
            "[nltk_data]    |   Unzipping corpora/names.zip.\n",
            "[nltk_data]    | Downloading package nombank.1.0 to /root/nltk_data...\n",
            "[nltk_data]    | Downloading package nps_chat to /root/nltk_data...\n",
            "[nltk_data]    |   Unzipping corpora/nps_chat.zip.\n",
            "[nltk_data]    | Downloading package omw to /root/nltk_data...\n",
            "[nltk_data]    |   Unzipping corpora/omw.zip.\n",
            "[nltk_data]    | Downloading package opinion_lexicon to\n",
            "[nltk_data]    |     /root/nltk_data...\n",
            "[nltk_data]    |   Unzipping corpora/opinion_lexicon.zip.\n",
            "[nltk_data]    | Downloading package paradigms to /root/nltk_data...\n",
            "[nltk_data]    |   Unzipping corpora/paradigms.zip.\n",
            "[nltk_data]    | Downloading package pil to /root/nltk_data...\n",
            "[nltk_data]    |   Unzipping corpora/pil.zip.\n",
            "[nltk_data]    | Downloading package pl196x to /root/nltk_data...\n",
            "[nltk_data]    |   Unzipping corpora/pl196x.zip.\n",
            "[nltk_data]    | Downloading package ppattach to /root/nltk_data...\n",
            "[nltk_data]    |   Unzipping corpora/ppattach.zip.\n",
            "[nltk_data]    | Downloading package problem_reports to\n",
            "[nltk_data]    |     /root/nltk_data...\n",
            "[nltk_data]    |   Unzipping corpora/problem_reports.zip.\n",
            "[nltk_data]    | Downloading package propbank to /root/nltk_data...\n",
            "[nltk_data]    | Downloading package ptb to /root/nltk_data...\n",
            "[nltk_data]    |   Unzipping corpora/ptb.zip.\n",
            "[nltk_data]    | Downloading package product_reviews_1 to\n",
            "[nltk_data]    |     /root/nltk_data...\n",
            "[nltk_data]    |   Unzipping corpora/product_reviews_1.zip.\n",
            "[nltk_data]    | Downloading package product_reviews_2 to\n",
            "[nltk_data]    |     /root/nltk_data...\n",
            "[nltk_data]    |   Unzipping corpora/product_reviews_2.zip.\n",
            "[nltk_data]    | Downloading package pros_cons to /root/nltk_data...\n",
            "[nltk_data]    |   Unzipping corpora/pros_cons.zip.\n",
            "[nltk_data]    | Downloading package qc to /root/nltk_data...\n",
            "[nltk_data]    |   Unzipping corpora/qc.zip.\n",
            "[nltk_data]    | Downloading package reuters to /root/nltk_data...\n",
            "[nltk_data]    | Downloading package rte to /root/nltk_data...\n",
            "[nltk_data]    |   Unzipping corpora/rte.zip.\n",
            "[nltk_data]    | Downloading package semcor to /root/nltk_data...\n",
            "[nltk_data]    | Downloading package senseval to /root/nltk_data...\n",
            "[nltk_data]    |   Unzipping corpora/senseval.zip.\n",
            "[nltk_data]    | Downloading package sentiwordnet to\n",
            "[nltk_data]    |     /root/nltk_data...\n",
            "[nltk_data]    |   Unzipping corpora/sentiwordnet.zip.\n",
            "[nltk_data]    | Downloading package sentence_polarity to\n",
            "[nltk_data]    |     /root/nltk_data...\n",
            "[nltk_data]    |   Unzipping corpora/sentence_polarity.zip.\n",
            "[nltk_data]    | Downloading package shakespeare to /root/nltk_data...\n",
            "[nltk_data]    |   Unzipping corpora/shakespeare.zip.\n",
            "[nltk_data]    | Downloading package sinica_treebank to\n",
            "[nltk_data]    |     /root/nltk_data...\n",
            "[nltk_data]    |   Unzipping corpora/sinica_treebank.zip.\n",
            "[nltk_data]    | Downloading package smultron to /root/nltk_data...\n",
            "[nltk_data]    |   Unzipping corpora/smultron.zip.\n",
            "[nltk_data]    | Downloading package state_union to /root/nltk_data...\n",
            "[nltk_data]    |   Unzipping corpora/state_union.zip.\n",
            "[nltk_data]    | Downloading package stopwords to /root/nltk_data...\n",
            "[nltk_data]    |   Unzipping corpora/stopwords.zip.\n",
            "[nltk_data]    | Downloading package subjectivity to\n",
            "[nltk_data]    |     /root/nltk_data...\n",
            "[nltk_data]    |   Unzipping corpora/subjectivity.zip.\n",
            "[nltk_data]    | Downloading package swadesh to /root/nltk_data...\n",
            "[nltk_data]    |   Unzipping corpora/swadesh.zip.\n",
            "[nltk_data]    | Downloading package switchboard to /root/nltk_data...\n",
            "[nltk_data]    |   Unzipping corpora/switchboard.zip.\n",
            "[nltk_data]    | Downloading package timit to /root/nltk_data...\n",
            "[nltk_data]    |   Unzipping corpora/timit.zip.\n",
            "[nltk_data]    | Downloading package toolbox to /root/nltk_data...\n",
            "[nltk_data]    |   Unzipping corpora/toolbox.zip.\n",
            "[nltk_data]    | Downloading package treebank to /root/nltk_data...\n",
            "[nltk_data]    |   Unzipping corpora/treebank.zip.\n",
            "[nltk_data]    | Downloading package twitter_samples to\n",
            "[nltk_data]    |     /root/nltk_data...\n",
            "[nltk_data]    |   Unzipping corpora/twitter_samples.zip.\n",
            "[nltk_data]    | Downloading package udhr to /root/nltk_data...\n",
            "[nltk_data]    |   Unzipping corpora/udhr.zip.\n",
            "[nltk_data]    | Downloading package udhr2 to /root/nltk_data...\n",
            "[nltk_data]    |   Unzipping corpora/udhr2.zip.\n",
            "[nltk_data]    | Downloading package unicode_samples to\n",
            "[nltk_data]    |     /root/nltk_data...\n",
            "[nltk_data]    |   Unzipping corpora/unicode_samples.zip.\n",
            "[nltk_data]    | Downloading package universal_treebanks_v20 to\n",
            "[nltk_data]    |     /root/nltk_data...\n",
            "[nltk_data]    | Downloading package verbnet to /root/nltk_data...\n",
            "[nltk_data]    |   Unzipping corpora/verbnet.zip.\n",
            "[nltk_data]    | Downloading package verbnet3 to /root/nltk_data...\n",
            "[nltk_data]    |   Unzipping corpora/verbnet3.zip.\n",
            "[nltk_data]    | Downloading package webtext to /root/nltk_data...\n",
            "[nltk_data]    |   Unzipping corpora/webtext.zip.\n",
            "[nltk_data]    | Downloading package wordnet to /root/nltk_data...\n",
            "[nltk_data]    |   Unzipping corpora/wordnet.zip.\n",
            "[nltk_data]    | Downloading package wordnet31 to /root/nltk_data...\n",
            "[nltk_data]    |   Unzipping corpora/wordnet31.zip.\n",
            "[nltk_data]    | Downloading package wordnet_ic to /root/nltk_data...\n",
            "[nltk_data]    |   Unzipping corpora/wordnet_ic.zip.\n",
            "[nltk_data]    | Downloading package words to /root/nltk_data...\n",
            "[nltk_data]    |   Unzipping corpora/words.zip.\n",
            "[nltk_data]    | Downloading package ycoe to /root/nltk_data...\n",
            "[nltk_data]    |   Unzipping corpora/ycoe.zip.\n",
            "[nltk_data]    | Downloading package rslp to /root/nltk_data...\n",
            "[nltk_data]    |   Unzipping stemmers/rslp.zip.\n",
            "[nltk_data]    | Downloading package maxent_treebank_pos_tagger to\n",
            "[nltk_data]    |     /root/nltk_data...\n",
            "[nltk_data]    |   Unzipping taggers/maxent_treebank_pos_tagger.zip.\n",
            "[nltk_data]    | Downloading package universal_tagset to\n",
            "[nltk_data]    |     /root/nltk_data...\n",
            "[nltk_data]    |   Unzipping taggers/universal_tagset.zip.\n",
            "[nltk_data]    | Downloading package maxent_ne_chunker to\n",
            "[nltk_data]    |     /root/nltk_data...\n",
            "[nltk_data]    |   Unzipping chunkers/maxent_ne_chunker.zip.\n",
            "[nltk_data]    | Downloading package punkt to /root/nltk_data...\n",
            "[nltk_data]    |   Unzipping tokenizers/punkt.zip.\n",
            "[nltk_data]    | Downloading package book_grammars to\n",
            "[nltk_data]    |     /root/nltk_data...\n",
            "[nltk_data]    |   Unzipping grammars/book_grammars.zip.\n",
            "[nltk_data]    | Downloading package sample_grammars to\n",
            "[nltk_data]    |     /root/nltk_data...\n",
            "[nltk_data]    |   Unzipping grammars/sample_grammars.zip.\n",
            "[nltk_data]    | Downloading package spanish_grammars to\n",
            "[nltk_data]    |     /root/nltk_data...\n",
            "[nltk_data]    |   Unzipping grammars/spanish_grammars.zip.\n",
            "[nltk_data]    | Downloading package basque_grammars to\n",
            "[nltk_data]    |     /root/nltk_data...\n",
            "[nltk_data]    |   Unzipping grammars/basque_grammars.zip.\n",
            "[nltk_data]    | Downloading package large_grammars to\n",
            "[nltk_data]    |     /root/nltk_data...\n",
            "[nltk_data]    |   Unzipping grammars/large_grammars.zip.\n",
            "[nltk_data]    | Downloading package tagsets to /root/nltk_data...\n",
            "[nltk_data]    |   Unzipping help/tagsets.zip.\n",
            "[nltk_data]    | Downloading package snowball_data to\n",
            "[nltk_data]    |     /root/nltk_data...\n",
            "[nltk_data]    | Downloading package bllip_wsj_no_aux to\n",
            "[nltk_data]    |     /root/nltk_data...\n",
            "[nltk_data]    |   Unzipping models/bllip_wsj_no_aux.zip.\n",
            "[nltk_data]    | Downloading package word2vec_sample to\n",
            "[nltk_data]    |     /root/nltk_data...\n",
            "[nltk_data]    |   Unzipping models/word2vec_sample.zip.\n",
            "[nltk_data]    | Downloading package panlex_swadesh to\n",
            "[nltk_data]    |     /root/nltk_data...\n",
            "[nltk_data]    | Downloading package mte_teip5 to /root/nltk_data...\n",
            "[nltk_data]    |   Unzipping corpora/mte_teip5.zip.\n",
            "[nltk_data]    | Downloading package averaged_perceptron_tagger to\n",
            "[nltk_data]    |     /root/nltk_data...\n",
            "[nltk_data]    |   Unzipping taggers/averaged_perceptron_tagger.zip.\n",
            "[nltk_data]    | Downloading package averaged_perceptron_tagger_ru to\n",
            "[nltk_data]    |     /root/nltk_data...\n",
            "[nltk_data]    |   Unzipping\n",
            "[nltk_data]    |       taggers/averaged_perceptron_tagger_ru.zip.\n",
            "[nltk_data]    | Downloading package perluniprops to\n",
            "[nltk_data]    |     /root/nltk_data...\n",
            "[nltk_data]    |   Unzipping misc/perluniprops.zip.\n",
            "[nltk_data]    | Downloading package nonbreaking_prefixes to\n",
            "[nltk_data]    |     /root/nltk_data...\n",
            "[nltk_data]    |   Unzipping corpora/nonbreaking_prefixes.zip.\n",
            "[nltk_data]    | Downloading package vader_lexicon to\n",
            "[nltk_data]    |     /root/nltk_data...\n",
            "[nltk_data]    | Downloading package porter_test to /root/nltk_data...\n",
            "[nltk_data]    |   Unzipping stemmers/porter_test.zip.\n",
            "[nltk_data]    | Downloading package wmt15_eval to /root/nltk_data...\n",
            "[nltk_data]    |   Unzipping models/wmt15_eval.zip.\n",
            "[nltk_data]    | Downloading package mwa_ppdb to /root/nltk_data...\n",
            "[nltk_data]    |   Unzipping misc/mwa_ppdb.zip.\n",
            "[nltk_data]    | \n",
            "[nltk_data]  Done downloading collection all\n"
          ]
        },
        {
          "output_type": "execute_result",
          "data": {
            "text/plain": [
              "True"
            ]
          },
          "metadata": {},
          "execution_count": 3
        }
      ]
    },
    {
      "cell_type": "markdown",
      "metadata": {
        "id": "i7JKPDZmYvbU"
      },
      "source": [
        "## 3. EDA\n"
      ]
    },
    {
      "cell_type": "code",
      "metadata": {
        "id": "EqgkO7FUYw6J"
      },
      "source": [
        "questions = pd.read_csv('questions.csv')"
      ],
      "execution_count": 4,
      "outputs": []
    },
    {
      "cell_type": "code",
      "metadata": {
        "colab": {
          "base_uri": "https://localhost:8080/",
          "height": 293
        },
        "id": "eIKZ5CEhZC_9",
        "outputId": "e8de0e46-6ace-4181-e146-2fc54810aa72"
      },
      "source": [
        "questions.head()"
      ],
      "execution_count": 5,
      "outputs": [
        {
          "output_type": "execute_result",
          "data": {
            "text/html": [
              "<div>\n",
              "<style scoped>\n",
              "    .dataframe tbody tr th:only-of-type {\n",
              "        vertical-align: middle;\n",
              "    }\n",
              "\n",
              "    .dataframe tbody tr th {\n",
              "        vertical-align: top;\n",
              "    }\n",
              "\n",
              "    .dataframe thead th {\n",
              "        text-align: right;\n",
              "    }\n",
              "</style>\n",
              "<table border=\"1\" class=\"dataframe\">\n",
              "  <thead>\n",
              "    <tr style=\"text-align: right;\">\n",
              "      <th></th>\n",
              "      <th>id</th>\n",
              "      <th>qid1</th>\n",
              "      <th>qid2</th>\n",
              "      <th>question1</th>\n",
              "      <th>question2</th>\n",
              "      <th>is_duplicate</th>\n",
              "    </tr>\n",
              "  </thead>\n",
              "  <tbody>\n",
              "    <tr>\n",
              "      <th>0</th>\n",
              "      <td>0</td>\n",
              "      <td>1</td>\n",
              "      <td>2</td>\n",
              "      <td>What is the step by step guide to invest in sh...</td>\n",
              "      <td>What is the step by step guide to invest in sh...</td>\n",
              "      <td>0</td>\n",
              "    </tr>\n",
              "    <tr>\n",
              "      <th>1</th>\n",
              "      <td>1</td>\n",
              "      <td>3</td>\n",
              "      <td>4</td>\n",
              "      <td>What is the story of Kohinoor (Koh-i-Noor) Dia...</td>\n",
              "      <td>What would happen if the Indian government sto...</td>\n",
              "      <td>0</td>\n",
              "    </tr>\n",
              "    <tr>\n",
              "      <th>2</th>\n",
              "      <td>2</td>\n",
              "      <td>5</td>\n",
              "      <td>6</td>\n",
              "      <td>How can I increase the speed of my internet co...</td>\n",
              "      <td>How can Internet speed be increased by hacking...</td>\n",
              "      <td>0</td>\n",
              "    </tr>\n",
              "    <tr>\n",
              "      <th>3</th>\n",
              "      <td>3</td>\n",
              "      <td>7</td>\n",
              "      <td>8</td>\n",
              "      <td>Why am I mentally very lonely? How can I solve...</td>\n",
              "      <td>Find the remainder when [math]23^{24}[/math] i...</td>\n",
              "      <td>0</td>\n",
              "    </tr>\n",
              "    <tr>\n",
              "      <th>4</th>\n",
              "      <td>4</td>\n",
              "      <td>9</td>\n",
              "      <td>10</td>\n",
              "      <td>Which one dissolve in water quikly sugar, salt...</td>\n",
              "      <td>Which fish would survive in salt water?</td>\n",
              "      <td>0</td>\n",
              "    </tr>\n",
              "  </tbody>\n",
              "</table>\n",
              "</div>"
            ],
            "text/plain": [
              "   id  qid1  ...                                          question2 is_duplicate\n",
              "0   0     1  ...  What is the step by step guide to invest in sh...            0\n",
              "1   1     3  ...  What would happen if the Indian government sto...            0\n",
              "2   2     5  ...  How can Internet speed be increased by hacking...            0\n",
              "3   3     7  ...  Find the remainder when [math]23^{24}[/math] i...            0\n",
              "4   4     9  ...            Which fish would survive in salt water?            0\n",
              "\n",
              "[5 rows x 6 columns]"
            ]
          },
          "metadata": {},
          "execution_count": 5
        }
      ]
    },
    {
      "cell_type": "code",
      "metadata": {
        "id": "nfZ9N_RmeyhA"
      },
      "source": [
        "def handleNAN(df):\n",
        "  print(df.isna().sum())\n",
        "  df = df.dropna()\n",
        "  print(df.isna().sum())\n",
        "  return df"
      ],
      "execution_count": 6,
      "outputs": []
    },
    {
      "cell_type": "code",
      "metadata": {
        "colab": {
          "base_uri": "https://localhost:8080/"
        },
        "id": "2A2ZMXs1e8qP",
        "outputId": "d0eb66f3-b658-4089-d342-8dc20cf4a56a"
      },
      "source": [
        "questions = handleNAN(questions)"
      ],
      "execution_count": 7,
      "outputs": [
        {
          "output_type": "stream",
          "name": "stdout",
          "text": [
            "id              0\n",
            "qid1            0\n",
            "qid2            0\n",
            "question1       1\n",
            "question2       2\n",
            "is_duplicate    0\n",
            "dtype: int64\n",
            "id              0\n",
            "qid1            0\n",
            "qid2            0\n",
            "question1       0\n",
            "question2       0\n",
            "is_duplicate    0\n",
            "dtype: int64\n"
          ]
        }
      ]
    },
    {
      "cell_type": "code",
      "metadata": {
        "id": "5w-vPRsRZENZ"
      },
      "source": [
        "def stats(df):\n",
        "  size = len(df)\n",
        "  print('Number of rows in dataset : {}'.format(size))\n",
        "\n",
        "  isDuplicate = dict(df['is_duplicate'].value_counts(normalize=True))\n",
        "\n",
        "  sns.set_theme(style=\"whitegrid\")\n",
        "  ax = sns.barplot(\n",
        "        x=list(isDuplicate.keys()), \n",
        "        y=list(isDuplicate.values()), \n",
        "      )\n",
        "  ax.set(xlabel=\"Class Labels\", ylabel = \"Ratio\", title='Ratio of each class in Dataset')\n",
        "  plt.show()\n",
        "  zeros = (df == 0).sum(axis=0)['is_duplicate']\n",
        "  print('{} or {:.3f} % of pairs are not-duplicate questions.'.format(zeros, isDuplicate[0]*100))\n",
        "  print('{} or {:.3f} % of pairs are duplicate questions.'.format(size - zeros, isDuplicate[1]*100))\n",
        "\n",
        "  qids = pd.Series(df['qid1'].tolist() + df['qid2'].tolist())\n",
        "  uniqueQIds= len(np.unique(qids))\n",
        "  qIdMoreThanOne = np.sum(qids.value_counts() > 1)\n",
        "  # qIdFreq = dict(qids.value_counts())\n",
        "  # qIdFreqSorted = dict(sorted(qIdFreq.items(), key=lambda item: item[1], reverse=True))\n",
        "\n",
        "  print('Total Number of Unique Questions = {}'.format(uniqueQIds))\n",
        "  print('Total Number of Repeated Questions = {}'.format(qIdMoreThanOne))"
      ],
      "execution_count": 8,
      "outputs": []
    },
    {
      "cell_type": "code",
      "metadata": {
        "colab": {
          "base_uri": "https://localhost:8080/",
          "height": 388
        },
        "id": "ykV1crHid__O",
        "outputId": "2230c0b1-390a-48b1-a74b-789235bf6f65"
      },
      "source": [
        "stats(questions)"
      ],
      "execution_count": 9,
      "outputs": [
        {
          "output_type": "stream",
          "name": "stdout",
          "text": [
            "Number of rows in dataset : 404348\n"
          ]
        },
        {
          "output_type": "display_data",
          "data": {
            "image/png": "[encoded data removed]",
            "text/plain": [
              "<Figure size 432x288 with 1 Axes>"
            ]
          },
          "metadata": {}
        },
        {
          "output_type": "stream",
          "name": "stdout",
          "text": [
            "255042 or 63.075 % of pairs are not-duplicate questions.\n",
            "149306 or 36.925 % of pairs are duplicate questions.\n",
            "Total Number of Unique Questions = 789795\n",
            "Total Number of Repeated Questions = 13698\n"
          ]
        }
      ]
    },
    {
      "cell_type": "markdown",
      "metadata": {
        "id": "LWD2x5fFtjCc"
      },
      "source": [
        "## 4. Preprocessing"
      ]
    },
    {
      "cell_type": "code",
      "metadata": {
        "id": "qxLFYnCveBGR"
      },
      "source": [
        "def textPreprocessing(text):\n",
        "  # Lower-casing whole text\n",
        "  text = str(text).lower().strip()\n",
        "  # Handling Clitics - \n",
        "  contractions.fix(text)\n",
        "  # Removing digits - \n",
        "  text = ''.join(filter(lambda x: not x.isdigit(), text))\n",
        "  # Handling currency symbols - \n",
        "  text = text.replace('%', ' percent')\n",
        "  text = text.replace('$', ' dollar ')\n",
        "  text = text.replace('₹', ' rupee ')\n",
        "  text = text.replace('€', ' euro ')\n",
        "  text = text.replace('@', ' at ')\n",
        "  # Removing some characters - \n",
        "  text = re.sub('[!#%&\\'()*+,-./:;?@[\\]^_`{|}~]', '', text)\n",
        "  # Removing Stopwords\n",
        "  text = text.split(' ')\n",
        "  text = [i for i in text if i not in stopwords]\n",
        "  text = ' '.join([str(i) for i in text if i])\n",
        "  text = text.strip()\n",
        "  return text\n",
        "\n",
        "\n",
        "def extractNouns(text):\n",
        "  wordsList = text.split(' ')\n",
        "  nouns = ''\n",
        "  try:\n",
        "    tagged = nltk.pos_tag(wordsList)\n",
        "    for tag in tagged:\n",
        "      if 'NN' in tag[1]:\n",
        "        nouns += tag[0]\n",
        "        nouns += ' '\n",
        "  except:\n",
        "    pass\n",
        "  return nouns\n",
        "\n",
        "\n",
        "def preprocess(df):\n",
        "  df['question1'] = df['question1'].apply(textPreprocessing)\n",
        "  df['question2'] = df['question2'].apply(textPreprocessing)\n",
        "  df['question1_nouns'] = df['question1'].apply(extractNouns)\n",
        "  df['question2_nouns'] = df['question2'].apply(extractNouns)\n",
        "  return df\n",
        "\n",
        "def getCommonWordsCount(row):\n",
        "  w1 = set(row['question1'].split(' '))\n",
        "  w2 = set(row['question2'].split(' '))\n",
        "  w = w1.intersection(w2)\n",
        "  return len(w)\n",
        "\n",
        "def getUniqueWordsCount(row):\n",
        "  w1 = set(row['question1'].split(' '))\n",
        "  w2 = set(row['question2'].split(' '))\n",
        "  w = w1.union(w2)\n",
        "  return len(w)\n",
        "\n",
        "def extractFeatures(df):\n",
        "  df['q1_word_count'] = df['question1'].apply(lambda x: len(x.split()))\n",
        "  df['q2_word_count'] = df['question2'].apply(lambda x: len(x.split()))\n",
        "  df['q1len'] = df['question1'].str.len() \n",
        "  df['q2len'] = df['question2'].str.len()\n",
        "  df['common_word_count'] = df.apply(getCommonWordsCount, axis=1)\n",
        "  df['total_unique_word_count'] = df.apply(getUniqueWordsCount, axis=1)\n",
        "  df['common_word_ratio'] = df['common_word_count'] / df['total_unique_word_count']\n",
        "  df['total_word_count'] = df['q1_word_count'] + df['q2_word_count']\n",
        "  df['fuzz_ratio'] = df.apply(lambda x: fuzz.ratio(x.question1, x.question2), axis=1)\n",
        "  df['fuzz_partial_ratio'] = df.apply(lambda x: fuzz.partial_ratio(x.question1, x.question2), axis=1)\n",
        "  df['fuzz_token_set_ratio'] = df.apply(lambda x: fuzz.token_set_ratio(x.question1, x.question2), axis=1)\n",
        "  df['fuzz_token_sort_ratio'] = df.apply(lambda x: fuzz.token_sort_ratio(x.question1, x.question2), axis=1)\n",
        "\n",
        "  return df"
      ],
      "execution_count": 10,
      "outputs": []
    },
    {
      "cell_type": "code",
      "metadata": {
        "id": "xYdTnlwWxlDZ"
      },
      "source": [
        "stopwords = nltk.corpus.stopwords.words('english')\n",
        "questions = preprocess(questions)"
      ],
      "execution_count": 11,
      "outputs": []
    },
    {
      "cell_type": "code",
      "metadata": {
        "id": "QrFmapMmmGQI"
      },
      "source": [
        "questions = extractFeatures(questions)"
      ],
      "execution_count": 12,
      "outputs": []
    },
    {
      "cell_type": "code",
      "metadata": {
        "colab": {
          "base_uri": "https://localhost:8080/",
          "height": 625
        },
        "id": "nHF_3DzvjFKD",
        "outputId": "4339093a-7c74-45e3-bb5a-30ab6c81b33b"
      },
      "source": [
        "questions.head()"
      ],
      "execution_count": 13,
      "outputs": [
        {
          "output_type": "execute_result",
          "data": {
            "text/html": [
              "<div>\n",
              "<style scoped>\n",
              "    .dataframe tbody tr th:only-of-type {\n",
              "        vertical-align: middle;\n",
              "    }\n",
              "\n",
              "    .dataframe tbody tr th {\n",
              "        vertical-align: top;\n",
              "    }\n",
              "\n",
              "    .dataframe thead th {\n",
              "        text-align: right;\n",
              "    }\n",
              "</style>\n",
              "<table border=\"1\" class=\"dataframe\">\n",
              "  <thead>\n",
              "    <tr style=\"text-align: right;\">\n",
              "      <th></th>\n",
              "      <th>id</th>\n",
              "      <th>qid1</th>\n",
              "      <th>qid2</th>\n",
              "      <th>question1</th>\n",
              "      <th>question2</th>\n",
              "      <th>is_duplicate</th>\n",
              "      <th>question1_nouns</th>\n",
              "      <th>question2_nouns</th>\n",
              "      <th>q1_word_count</th>\n",
              "      <th>q2_word_count</th>\n",
              "      <th>q1len</th>\n",
              "      <th>q2len</th>\n",
              "      <th>common_word_count</th>\n",
              "      <th>total_unique_word_count</th>\n",
              "      <th>common_word_ratio</th>\n",
              "      <th>total_word_count</th>\n",
              "      <th>fuzz_ratio</th>\n",
              "      <th>fuzz_partial_ratio</th>\n",
              "      <th>fuzz_token_set_ratio</th>\n",
              "      <th>fuzz_token_sort_ratio</th>\n",
              "    </tr>\n",
              "  </thead>\n",
              "  <tbody>\n",
              "    <tr>\n",
              "      <th>0</th>\n",
              "      <td>0</td>\n",
              "      <td>1</td>\n",
              "      <td>2</td>\n",
              "      <td>step step guide invest share market india</td>\n",
              "      <td>step step guide invest share market</td>\n",
              "      <td>0</td>\n",
              "      <td>step step share market india</td>\n",
              "      <td>step step share market</td>\n",
              "      <td>7</td>\n",
              "      <td>6</td>\n",
              "      <td>41</td>\n",
              "      <td>35</td>\n",
              "      <td>5</td>\n",
              "      <td>6</td>\n",
              "      <td>0.833333</td>\n",
              "      <td>13</td>\n",
              "      <td>92</td>\n",
              "      <td>100</td>\n",
              "      <td>100</td>\n",
              "      <td>92</td>\n",
              "    </tr>\n",
              "    <tr>\n",
              "      <th>1</th>\n",
              "      <td>1</td>\n",
              "      <td>3</td>\n",
              "      <td>4</td>\n",
              "      <td>story kohinoor kohinoor diamond</td>\n",
              "      <td>would happen indian government stole kohinoor ...</td>\n",
              "      <td>0</td>\n",
              "      <td>story kohinoor kohinoor diamond</td>\n",
              "      <td>government kohinoor diamond</td>\n",
              "      <td>4</td>\n",
              "      <td>9</td>\n",
              "      <td>31</td>\n",
              "      <td>67</td>\n",
              "      <td>2</td>\n",
              "      <td>9</td>\n",
              "      <td>0.222222</td>\n",
              "      <td>13</td>\n",
              "      <td>59</td>\n",
              "      <td>94</td>\n",
              "      <td>84</td>\n",
              "      <td>59</td>\n",
              "    </tr>\n",
              "    <tr>\n",
              "      <th>2</th>\n",
              "      <td>2</td>\n",
              "      <td>5</td>\n",
              "      <td>6</td>\n",
              "      <td>increase speed internet connection using vpn</td>\n",
              "      <td>internet speed increased hacking dns</td>\n",
              "      <td>0</td>\n",
              "      <td>increase speed connection vpn</td>\n",
              "      <td>speed dns</td>\n",
              "      <td>6</td>\n",
              "      <td>5</td>\n",
              "      <td>44</td>\n",
              "      <td>36</td>\n",
              "      <td>2</td>\n",
              "      <td>9</td>\n",
              "      <td>0.222222</td>\n",
              "      <td>11</td>\n",
              "      <td>55</td>\n",
              "      <td>56</td>\n",
              "      <td>70</td>\n",
              "      <td>70</td>\n",
              "    </tr>\n",
              "    <tr>\n",
              "      <th>3</th>\n",
              "      <td>3</td>\n",
              "      <td>7</td>\n",
              "      <td>8</td>\n",
              "      <td>mentally lonely solve</td>\n",
              "      <td>find remainder mathmath divided</td>\n",
              "      <td>0</td>\n",
              "      <td></td>\n",
              "      <td>remainder mathmath</td>\n",
              "      <td>3</td>\n",
              "      <td>4</td>\n",
              "      <td>21</td>\n",
              "      <td>31</td>\n",
              "      <td>0</td>\n",
              "      <td>7</td>\n",
              "      <td>0.000000</td>\n",
              "      <td>7</td>\n",
              "      <td>27</td>\n",
              "      <td>29</td>\n",
              "      <td>27</td>\n",
              "      <td>27</td>\n",
              "    </tr>\n",
              "    <tr>\n",
              "      <th>4</th>\n",
              "      <td>4</td>\n",
              "      <td>9</td>\n",
              "      <td>10</td>\n",
              "      <td>one dissolve water quikly sugar salt methane c...</td>\n",
              "      <td>fish would survive salt water</td>\n",
              "      <td>0</td>\n",
              "      <td>dissolve water quikly sugar carbon di</td>\n",
              "      <td>fish salt water</td>\n",
              "      <td>10</td>\n",
              "      <td>5</td>\n",
              "      <td>60</td>\n",
              "      <td>29</td>\n",
              "      <td>2</td>\n",
              "      <td>13</td>\n",
              "      <td>0.153846</td>\n",
              "      <td>15</td>\n",
              "      <td>43</td>\n",
              "      <td>52</td>\n",
              "      <td>51</td>\n",
              "      <td>40</td>\n",
              "    </tr>\n",
              "  </tbody>\n",
              "</table>\n",
              "</div>"
            ],
            "text/plain": [
              "   id  qid1  ...  fuzz_token_set_ratio fuzz_token_sort_ratio\n",
              "0   0     1  ...                   100                    92\n",
              "1   1     3  ...                    84                    59\n",
              "2   2     5  ...                    70                    70\n",
              "3   3     7  ...                    27                    27\n",
              "4   4     9  ...                    51                    40\n",
              "\n",
              "[5 rows x 20 columns]"
            ]
          },
          "metadata": {},
          "execution_count": 13
        }
      ]
    },
    {
      "cell_type": "markdown",
      "metadata": {
        "id": "KTtAErG5IlKT"
      },
      "source": [
        "## EDA-II"
      ]
    },
    {
      "cell_type": "code",
      "metadata": {
        "id": "9apmO-3gHNao"
      },
      "source": [
        "def plotKDE(df, featureName, xlabel, title):\n",
        "  ax = sns.kdeplot(df[featureName], hue=df['is_duplicate'])\n",
        "  ax.set(xlabel=xlabel, ylabel = \"Density\", title=title)\n",
        "  plt.show()\n",
        "\n",
        "def visualise(df):\n",
        "  plotKDE(df, 'common_word_ratio', 'Common Word Ratio', 'PDF of Common word Ratio')\n",
        "  plotKDE(df, 'common_word_count', 'Common Word Count', 'PDF of Common word Count')\n",
        "  plotKDE(df, 'fuzz_ratio', 'Fuzzy Ratio', 'PDF of Fuzzy ratio')\n",
        "  plotKDE(df, 'fuzz_partial_ratio', 'Fuzzy partial ratio', 'PDF of Fuzzy partial ratio')\n",
        "  plotKDE(df, 'fuzz_token_set_ratio', 'Fuzzy token set ratio', 'PDF of Fuzzy token set ratio')\n",
        "  plotKDE(df, 'fuzz_token_sort_ratio', 'Fuzzy token sort ratio', 'PDF of Fuzzy token sort ratio')\n",
        "  \n"
      ],
      "execution_count": 14,
      "outputs": []
    },
    {
      "cell_type": "code",
      "metadata": {
        "colab": {
          "base_uri": "https://localhost:8080/",
          "height": 869
        },
        "id": "6qoCjamWI4b_",
        "outputId": "daebd579-3870-4354-e952-0c4babc04e6f"
      },
      "source": [
        "visualise(questions)"
      ],
      "execution_count": null,
      "outputs": [
        {
          "output_type": "display_data",
          "data": {
            "image/png": "[encoded data removed]",
            "text/plain": [
              "<Figure size 432x288 with 1 Axes>"
            ]
          },
          "metadata": {}
        },
        {
          "output_type": "display_data",
          "data": {
            "image/png": "[encoded data removed]",
            "text/plain": [
              "<Figure size 432x288 with 1 Axes>"
            ]
          },
          "metadata": {}
        },
        {
          "output_type": "display_data",
          "data": {
            "image/png": "[encoded data removed]",
            "text/plain": [
              "<Figure size 432x288 with 1 Axes>"
            ]
          },
          "metadata": {}
        }
      ]
    },
    {
      "cell_type": "code",
      "metadata": {
        "id": "2MXpb-6_I5fe"
      },
      "source": [
        "questions.to_csv('train.csv', index=False)"
      ],
      "execution_count": 16,
      "outputs": []
    },
    {
      "cell_type": "code",
      "metadata": {
        "id": "w-_fcykK1jb9"
      },
      "source": [
        ""
      ],
      "execution_count": null,
      "outputs": []
    }
  ]
}
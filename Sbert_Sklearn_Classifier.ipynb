{
  "nbformat": 4,
  "nbformat_minor": 0,
  "metadata": {
    "colab": {
      "name": "Sbert_Sklearn_Classifier.ipynb",
      "provenance": []
    },
    "kernelspec": {
      "name": "python3",
      "display_name": "Python 3"
    },
    "language_info": {
      "name": "python"
    }
  },
  "cells": [
    {
      "cell_type": "code",
      "metadata": {
        "colab": {
          "base_uri": "https://localhost:8080/"
        },
        "id": "zouVDhkGCXiR",
        "outputId": "9527203e-47ad-431d-c921-b1f04247ca2b"
      },
      "source": [
        "from google.colab import drive\n",
        "drive.mount(\"/content/drive\")\n",
        "import nltk\n",
        "nltk.download('punkt')\n",
        "!pip install -U sentence-transformers\n",
        "from tensorflow.keras.layers import Input, LSTM, Dense, Concatenate\n",
        "from sklearn.metrics import confusion_matrix, classification_report, f1_score, accuracy_score\n",
        "import xgboost as xgb\n",
        "from tensorflow.keras.models import Model\n",
        "import numpy as np\n",
        "import pandas as pd\n",
        "from nltk.util import ngrams\n",
        "import re\n",
        "from pathlib import Path\n",
        "import string\n",
        "from sklearn.model_selection import train_test_split\n",
        "from functools import reduce\n",
        "from math import log\n",
        "import itertools\n",
        "from tqdm import tqdm\n",
        "import os\n",
        "import json\n",
        "from sklearn import svm\n",
        "from nltk.tokenize.casual import TweetTokenizer\n",
        "import pickle\n",
        "from gensim.models.word2vec import Word2Vec\n",
        "import keras\n",
        "import tensorflow\n",
        "from tensorflow.keras.models import Sequential\n",
        "from tensorflow.keras.layers import Dense, Activation, Dropout\n",
        "from sklearn.linear_model import LogisticRegression\n",
        "from tensorflow.keras.utils import to_categorical, plot_model\n",
        "from sklearn.metrics import precision_recall_fscore_support\n",
        "from sentence_transformers import SentenceTransformer\n",
        "from sklearn.metrics import accuracy_score\n",
        "from sklearn.metrics.pairwise import cosine_similarity\n",
        "from sklearn.metrics import classification_report\n",
        "import gensim.downloader as api\n",
        "import gensim\n",
        "from sklearn.model_selection import KFold\n",
        "\n",
        "t = TweetTokenizer()\n",
        "dir=\"/content/drive/MyDrive/nlp_project/\"\n",
        "os.chdir(dir)\n",
        "df=pd.read_csv(\"train.csv\")\n",
        "output=list(df[\"is_duplicate\"])\n",
        "output_np=np.array(output)"
      ],
      "execution_count": 8,
      "outputs": [
        {
          "output_type": "stream",
          "name": "stdout",
          "text": [
            "Mounted at /content/drive\n",
            "[nltk_data] Downloading package punkt to /root/nltk_data...\n",
            "[nltk_data]   Unzipping tokenizers/punkt.zip.\n",
            "Collecting sentence-transformers\n",
            "  Downloading sentence-transformers-2.1.0.tar.gz (78 kB)\n",
            "\u001b[K     |████████████████████████████████| 78 kB 3.5 MB/s \n",
            "\u001b[?25hCollecting transformers<5.0.0,>=4.6.0\n",
            "  Downloading transformers-4.12.5-py3-none-any.whl (3.1 MB)\n",
            "\u001b[K     |████████████████████████████████| 3.1 MB 11.6 MB/s \n",
            "\u001b[?25hCollecting tokenizers>=0.10.3\n",
            "  Downloading tokenizers-0.10.3-cp37-cp37m-manylinux_2_5_x86_64.manylinux1_x86_64.manylinux_2_12_x86_64.manylinux2010_x86_64.whl (3.3 MB)\n",
            "\u001b[K     |████████████████████████████████| 3.3 MB 23.1 MB/s \n",
            "\u001b[?25hRequirement already satisfied: tqdm in /usr/local/lib/python3.7/dist-packages (from sentence-transformers) (4.62.3)\n",
            "Requirement already satisfied: torch>=1.6.0 in /usr/local/lib/python3.7/dist-packages (from sentence-transformers) (1.10.0+cu111)\n",
            "Requirement already satisfied: torchvision in /usr/local/lib/python3.7/dist-packages (from sentence-transformers) (0.11.1+cu111)\n",
            "Requirement already satisfied: numpy in /usr/local/lib/python3.7/dist-packages (from sentence-transformers) (1.19.5)\n",
            "Requirement already satisfied: scikit-learn in /usr/local/lib/python3.7/dist-packages (from sentence-transformers) (1.0.1)\n",
            "Requirement already satisfied: scipy in /usr/local/lib/python3.7/dist-packages (from sentence-transformers) (1.4.1)\n",
            "Requirement already satisfied: nltk in /usr/local/lib/python3.7/dist-packages (from sentence-transformers) (3.2.5)\n",
            "Collecting sentencepiece\n",
            "  Downloading sentencepiece-0.1.96-cp37-cp37m-manylinux_2_17_x86_64.manylinux2014_x86_64.whl (1.2 MB)\n",
            "\u001b[K     |████████████████████████████████| 1.2 MB 47.2 MB/s \n",
            "\u001b[?25hCollecting huggingface-hub\n",
            "  Downloading huggingface_hub-0.1.2-py3-none-any.whl (59 kB)\n",
            "\u001b[K     |████████████████████████████████| 59 kB 6.9 MB/s \n",
            "\u001b[?25hRequirement already satisfied: typing-extensions in /usr/local/lib/python3.7/dist-packages (from torch>=1.6.0->sentence-transformers) (3.10.0.2)\n",
            "Requirement already satisfied: requests in /usr/local/lib/python3.7/dist-packages (from transformers<5.0.0,>=4.6.0->sentence-transformers) (2.23.0)\n",
            "Requirement already satisfied: filelock in /usr/local/lib/python3.7/dist-packages (from transformers<5.0.0,>=4.6.0->sentence-transformers) (3.4.0)\n",
            "Collecting pyyaml>=5.1\n",
            "  Downloading PyYAML-6.0-cp37-cp37m-manylinux_2_5_x86_64.manylinux1_x86_64.manylinux_2_12_x86_64.manylinux2010_x86_64.whl (596 kB)\n",
            "\u001b[K     |████████████████████████████████| 596 kB 43.6 MB/s \n",
            "\u001b[?25hRequirement already satisfied: importlib-metadata in /usr/local/lib/python3.7/dist-packages (from transformers<5.0.0,>=4.6.0->sentence-transformers) (4.8.2)\n",
            "Requirement already satisfied: regex!=2019.12.17 in /usr/local/lib/python3.7/dist-packages (from transformers<5.0.0,>=4.6.0->sentence-transformers) (2019.12.20)\n",
            "Collecting sacremoses\n",
            "  Downloading sacremoses-0.0.46-py3-none-any.whl (895 kB)\n",
            "\u001b[K     |████████████████████████████████| 895 kB 60.8 MB/s \n",
            "\u001b[?25hRequirement already satisfied: packaging>=20.0 in /usr/local/lib/python3.7/dist-packages (from transformers<5.0.0,>=4.6.0->sentence-transformers) (21.3)\n",
            "Requirement already satisfied: pyparsing!=3.0.5,>=2.0.2 in /usr/local/lib/python3.7/dist-packages (from packaging>=20.0->transformers<5.0.0,>=4.6.0->sentence-transformers) (3.0.6)\n",
            "Requirement already satisfied: zipp>=0.5 in /usr/local/lib/python3.7/dist-packages (from importlib-metadata->transformers<5.0.0,>=4.6.0->sentence-transformers) (3.6.0)\n",
            "Requirement already satisfied: six in /usr/local/lib/python3.7/dist-packages (from nltk->sentence-transformers) (1.15.0)\n",
            "Requirement already satisfied: chardet<4,>=3.0.2 in /usr/local/lib/python3.7/dist-packages (from requests->transformers<5.0.0,>=4.6.0->sentence-transformers) (3.0.4)\n",
            "Requirement already satisfied: certifi>=2017.4.17 in /usr/local/lib/python3.7/dist-packages (from requests->transformers<5.0.0,>=4.6.0->sentence-transformers) (2021.10.8)\n",
            "Requirement already satisfied: urllib3!=1.25.0,!=1.25.1,<1.26,>=1.21.1 in /usr/local/lib/python3.7/dist-packages (from requests->transformers<5.0.0,>=4.6.0->sentence-transformers) (1.24.3)\n",
            "Requirement already satisfied: idna<3,>=2.5 in /usr/local/lib/python3.7/dist-packages (from requests->transformers<5.0.0,>=4.6.0->sentence-transformers) (2.10)\n",
            "Requirement already satisfied: joblib in /usr/local/lib/python3.7/dist-packages (from sacremoses->transformers<5.0.0,>=4.6.0->sentence-transformers) (1.1.0)\n",
            "Requirement already satisfied: click in /usr/local/lib/python3.7/dist-packages (from sacremoses->transformers<5.0.0,>=4.6.0->sentence-transformers) (7.1.2)\n",
            "Requirement already satisfied: threadpoolctl>=2.0.0 in /usr/local/lib/python3.7/dist-packages (from scikit-learn->sentence-transformers) (3.0.0)\n",
            "Requirement already satisfied: pillow!=8.3.0,>=5.3.0 in /usr/local/lib/python3.7/dist-packages (from torchvision->sentence-transformers) (7.1.2)\n",
            "Building wheels for collected packages: sentence-transformers\n",
            "  Building wheel for sentence-transformers (setup.py) ... \u001b[?25l\u001b[?25hdone\n",
            "  Created wheel for sentence-transformers: filename=sentence_transformers-2.1.0-py3-none-any.whl size=121000 sha256=94fd9d866d9de3990ac41a56c5e9d8b4fb2cc37a7f7152e020f6c94a5fec3fbb\n",
            "  Stored in directory: /root/.cache/pip/wheels/90/f0/bb/ed1add84da70092ea526466eadc2bfb197c4bcb8d4fa5f7bad\n",
            "Successfully built sentence-transformers\n",
            "Installing collected packages: pyyaml, tokenizers, sacremoses, huggingface-hub, transformers, sentencepiece, sentence-transformers\n",
            "  Attempting uninstall: pyyaml\n",
            "    Found existing installation: PyYAML 3.13\n",
            "    Uninstalling PyYAML-3.13:\n",
            "      Successfully uninstalled PyYAML-3.13\n",
            "Successfully installed huggingface-hub-0.1.2 pyyaml-6.0 sacremoses-0.0.46 sentence-transformers-2.1.0 sentencepiece-0.1.96 tokenizers-0.10.3 transformers-4.12.5\n"
          ]
        }
      ]
    },
    {
      "cell_type": "code",
      "metadata": {
        "id": "Y7pGHrPeQH1P"
      },
      "source": [
        "log_accuracy=[]\n",
        "log_f1=[]\n",
        "xg_accuracy=[]\n",
        "xg_f1=[]"
      ],
      "execution_count": 9,
      "outputs": []
    },
    {
      "cell_type": "code",
      "metadata": {
        "id": "cJV1CmCvPbSp"
      },
      "source": [
        "output_encode=to_categorical(output_np)\n",
        "output_encode=np.array(output_encode)"
      ],
      "execution_count": 10,
      "outputs": []
    },
    {
      "cell_type": "code",
      "metadata": {
        "id": "wAKLoILdCE6D"
      },
      "source": [
        "open_file = open(\"embeddings_para_1\", \"rb\")\n",
        "embeddings1= pickle.load(open_file)\n",
        "open_file.close()\n",
        "open_file = open(\"embeddings_para_2\", \"rb\")\n",
        "embeddings2 = pickle.load(open_file)\n",
        "open_file.close()"
      ],
      "execution_count": 11,
      "outputs": []
    },
    {
      "cell_type": "code",
      "metadata": {
        "colab": {
          "base_uri": "https://localhost:8080/"
        },
        "id": "WZ57MXvZxLfT",
        "outputId": "2f8567be-7f80-4f1b-9b34-8ff465393729"
      },
      "source": [
        "np.unique(output_encode)"
      ],
      "execution_count": 12,
      "outputs": [
        {
          "output_type": "execute_result",
          "data": {
            "text/plain": [
              "array([0., 1.], dtype=float32)"
            ]
          },
          "metadata": {},
          "execution_count": 12
        }
      ]
    },
    {
      "cell_type": "code",
      "metadata": {
        "id": "zqTVDDvGCJ-r"
      },
      "source": [
        "embeddings1=np.array(embeddings1)\n",
        "embeddings2=np.array(embeddings2)\n",
        "cosines=[]\n",
        "for i in range(len(embeddings1)):\n",
        "    val=cosine_similarity(np.vstack((embeddings1[i],embeddings2[i])))[0][1]\n",
        "    cosines.append(val)\n",
        "cosines=np.array(cosines)"
      ],
      "execution_count": 13,
      "outputs": []
    },
    {
      "cell_type": "code",
      "metadata": {
        "id": "8sFFrHQXCSD2"
      },
      "source": [
        "X_train, X_test, y_train, y_test = train_test_split(cosines, output_np, test_size=0.25, random_state=42)\n"
      ],
      "execution_count": 14,
      "outputs": []
    },
    {
      "cell_type": "code",
      "metadata": {
        "id": "JgFwFQASCSqd",
        "colab": {
          "base_uri": "https://localhost:8080/"
        },
        "outputId": "2c81c56d-d534-4772-f299-8793d193c33c"
      },
      "source": [
        "clf = LogisticRegression(random_state=0).fit(X_train.reshape(-1,1), y_train)\n",
        "y_pred = clf.predict(X_test.reshape(-1,1))\n",
        "print(\"Logisitc Regression(cosine)\")\n",
        "print(\"Accuracy: \",accuracy_score(y_test, y_pred)*100)\n",
        "print(\"Classification report:\\n\", classification_report(y_test, y_pred))\n",
        "print(\"F1 Score:\\n \",f1_score(y_test, y_pred)*100)\n",
        "log_accuracy.append(accuracy_score(y_test, y_pred)*100)\n",
        "log_f1.append(f1_score(y_test, y_pred)*100)"
      ],
      "execution_count": 15,
      "outputs": [
        {
          "output_type": "stream",
          "name": "stdout",
          "text": [
            "Logisitc Regression(cosine)\n",
            "Accuracy:  73.15678573901688\n",
            "Classification report:\n",
            "               precision    recall  f1-score   support\n",
            "\n",
            "           0       0.78      0.80      0.79     64078\n",
            "           1       0.64      0.62      0.63     37009\n",
            "\n",
            "    accuracy                           0.73    101087\n",
            "   macro avg       0.71      0.71      0.71    101087\n",
            "weighted avg       0.73      0.73      0.73    101087\n",
            "\n",
            "F1 Score:\n",
            "  62.66767558643461\n"
          ]
        }
      ]
    },
    {
      "cell_type": "code",
      "metadata": {
        "colab": {
          "base_uri": "https://localhost:8080/"
        },
        "id": "UwkyyPAuEH1q",
        "outputId": "b9691200-6dcb-4c54-a263-372c8d08e686"
      },
      "source": [
        "xgb_cl = xgb.XGBClassifier()\n",
        "xgb_cl.fit(X_train.reshape(-1,1), y_train)\n",
        "preds = xgb_cl.predict(X_test.reshape(-1,1))\n",
        "print(\"XGBoost(cosine)\")\n",
        "print(\"Accuracy: \",accuracy_score(y_test, y_pred)*100)\n",
        "print(\"Classification report:\\n\", classification_report(y_test, y_pred))\n",
        "print(\"F1 Score:\\n \",f1_score(y_test, y_pred)*100)\n",
        "xg_accuracy.append(accuracy_score(y_test, y_pred)*100)\n",
        "xg_f1.append(f1_score(y_test, y_pred)*100)"
      ],
      "execution_count": 16,
      "outputs": [
        {
          "output_type": "stream",
          "name": "stdout",
          "text": [
            "XGBoost(cosine)\n",
            "Accuracy:  73.15678573901688\n",
            "Classification report:\n",
            "               precision    recall  f1-score   support\n",
            "\n",
            "           0       0.78      0.80      0.79     64078\n",
            "           1       0.64      0.62      0.63     37009\n",
            "\n",
            "    accuracy                           0.73    101087\n",
            "   macro avg       0.71      0.71      0.71    101087\n",
            "weighted avg       0.73      0.73      0.73    101087\n",
            "\n",
            "F1 Score:\n",
            "  62.66767558643461\n"
          ]
        }
      ]
    },
    {
      "cell_type": "code",
      "metadata": {
        "id": "v76FclS_w6q_"
      },
      "source": [
        "input=np.hstack((embeddings1,embeddings2))"
      ],
      "execution_count": 17,
      "outputs": []
    },
    {
      "cell_type": "code",
      "metadata": {
        "id": "21RGXV6Mv-HW"
      },
      "source": [
        "open_file = open(\"embeddings_nouns_1\", \"rb\")\n",
        "embeddings1= pickle.load(open_file)\n",
        "open_file.close()\n",
        "open_file = open(\"embeddings_nouns_2\", \"rb\")\n",
        "embeddings2 = pickle.load(open_file)\n",
        "open_file.close()\n",
        "\n",
        "embeddings1=np.array(embeddings1)\n",
        "embeddings2=np.array(embeddings2)\n",
        "cosines=[]\n",
        "for i in range(len(embeddings1)):\n",
        "    val=cosine_similarity(np.vstack((embeddings1[i],embeddings2[i])))[0][1]\n",
        "    cosines.append(val)\n",
        "cosines=np.array(cosines)"
      ],
      "execution_count": 18,
      "outputs": []
    },
    {
      "cell_type": "code",
      "metadata": {
        "colab": {
          "base_uri": "https://localhost:8080/"
        },
        "id": "anZMj7zHS3Gv",
        "outputId": "c2711234-2891-45d5-e3d4-7f82787c8583"
      },
      "source": [
        "X_train, X_test, y_train, y_test = train_test_split(cosines, output_np, test_size=0.25, random_state=42)\n",
        "clf = LogisticRegression(random_state=0).fit(X_train.reshape(-1,1), y_train)\n",
        "y_pred = clf.predict(X_test.reshape(-1,1))\n",
        "print(\"Logisitc Regression(cosine_nouns)\")\n",
        "print(\"Accuracy: \",accuracy_score(y_test, y_pred)*100)\n",
        "print(\"Classification report:\\n\", classification_report(y_test, y_pred))\n",
        "print(\"F1 Score:\\n \",f1_score(y_test, y_pred)*100)\n",
        "log_accuracy.append(accuracy_score(y_test, y_pred)*100)\n",
        "log_f1.append(f1_score(y_test, y_pred)*100)\n",
        "xgb_cl = xgb.XGBClassifier()\n",
        "xgb_cl.fit(X_train.reshape(-1,1), y_train)\n",
        "preds = xgb_cl.predict(X_test.reshape(-1,1))\n",
        "print(\"XGBoost(cosine_nouns)\")\n",
        "print(\"Accuracy: \",accuracy_score(y_test, y_pred)*100)\n",
        "print(\"Classification report:\\n\", classification_report(y_test, y_pred))\n",
        "print(\"F1 Score:\\n \",f1_score(y_test, y_pred)*100)\n",
        "xg_accuracy.append(accuracy_score(y_test, y_pred)*100)\n",
        "xg_f1.append(f1_score(y_test, y_pred)*100)"
      ],
      "execution_count": 19,
      "outputs": [
        {
          "output_type": "stream",
          "name": "stdout",
          "text": [
            "Logisitc Regression(cosine_nouns)\n",
            "Accuracy:  69.08504555481912\n",
            "Classification report:\n",
            "               precision    recall  f1-score   support\n",
            "\n",
            "           0       0.73      0.81      0.77     64078\n",
            "           1       0.60      0.48      0.53     37009\n",
            "\n",
            "    accuracy                           0.69    101087\n",
            "   macro avg       0.66      0.65      0.65    101087\n",
            "weighted avg       0.68      0.69      0.68    101087\n",
            "\n",
            "F1 Score:\n",
            "  53.02649972192578\n",
            "XGBoost(cosine_nouns)\n",
            "Accuracy:  69.08504555481912\n",
            "Classification report:\n",
            "               precision    recall  f1-score   support\n",
            "\n",
            "           0       0.73      0.81      0.77     64078\n",
            "           1       0.60      0.48      0.53     37009\n",
            "\n",
            "    accuracy                           0.69    101087\n",
            "   macro avg       0.66      0.65      0.65    101087\n",
            "weighted avg       0.68      0.69      0.68    101087\n",
            "\n",
            "F1 Score:\n",
            "  53.02649972192578\n"
          ]
        }
      ]
    },
    {
      "cell_type": "code",
      "metadata": {
        "id": "ypoIsGYETCoV"
      },
      "source": [
        "open_file = open(\"embeddings_entities_1\", \"rb\")\n",
        "embeddings1= pickle.load(open_file)\n",
        "open_file.close()\n",
        "open_file = open(\"embeddings_entities_2\", \"rb\")\n",
        "embeddings2 = pickle.load(open_file)\n",
        "open_file.close()\n",
        "\n",
        "embeddings1=np.array(embeddings1)\n",
        "embeddings2=np.array(embeddings2)\n",
        "cosines=[]\n",
        "for i in range(len(embeddings1)):\n",
        "    val=cosine_similarity(np.vstack((embeddings1[i],embeddings2[i])))[0][1]\n",
        "    cosines.append(val)\n",
        "cosines=np.array(cosines)"
      ],
      "execution_count": 20,
      "outputs": []
    },
    {
      "cell_type": "code",
      "metadata": {
        "colab": {
          "base_uri": "https://localhost:8080/"
        },
        "id": "pqBy__FRTEFJ",
        "outputId": "53d20983-7478-4564-f207-29d2523ad340"
      },
      "source": [
        "X_train, X_test, y_train, y_test = train_test_split(cosines, output_np, test_size=0.25, random_state=42)\n",
        "clf = LogisticRegression(random_state=0).fit(X_train.reshape(-1,1), y_train)\n",
        "y_pred = clf.predict(X_test.reshape(-1,1))\n",
        "print(\"Logisitc Regression(cosine_entities)\")\n",
        "print(\"Accuracy: \",accuracy_score(y_test, y_pred)*100)\n",
        "print(\"Classification report:\\n\", classification_report(y_test, y_pred))\n",
        "print(\"F1 Score:\\n \",f1_score(y_test, y_pred)*100)\n",
        "log_accuracy.append(accuracy_score(y_test, y_pred)*100)\n",
        "log_f1.append(f1_score(y_test, y_pred)*100)\n",
        "xgb_cl = xgb.XGBClassifier()\n",
        "xgb_cl.fit(X_train.reshape(-1,1), y_train)\n",
        "preds = xgb_cl.predict(X_test.reshape(-1,1))\n",
        "print(\"XGBoost(cosine_entities)\")\n",
        "print(\"Accuracy: \",accuracy_score(y_test, y_pred)*100)\n",
        "print(\"Classification report:\\n\", classification_report(y_test, y_pred))\n",
        "print(\"F1 Score:\\n \",f1_score(y_test, y_pred)*100)\n",
        "xg_accuracy.append(accuracy_score(y_test, y_pred)*100)\n",
        "xg_f1.append(f1_score(y_test, y_pred)*100)"
      ],
      "execution_count": 21,
      "outputs": [
        {
          "output_type": "stream",
          "name": "stdout",
          "text": [
            "Logisitc Regression(cosine_entities)\n",
            "Accuracy:  71.06353932750996\n",
            "Classification report:\n",
            "               precision    recall  f1-score   support\n",
            "\n",
            "           0       0.75      0.81      0.78     64078\n",
            "           1       0.62      0.54      0.58     37009\n",
            "\n",
            "    accuracy                           0.71    101087\n",
            "   macro avg       0.69      0.68      0.68    101087\n",
            "weighted avg       0.70      0.71      0.71    101087\n",
            "\n",
            "F1 Score:\n",
            "  57.83882731085775\n",
            "XGBoost(cosine_entities)\n",
            "Accuracy:  71.06353932750996\n",
            "Classification report:\n",
            "               precision    recall  f1-score   support\n",
            "\n",
            "           0       0.75      0.81      0.78     64078\n",
            "           1       0.62      0.54      0.58     37009\n",
            "\n",
            "    accuracy                           0.71    101087\n",
            "   macro avg       0.69      0.68      0.68    101087\n",
            "weighted avg       0.70      0.71      0.71    101087\n",
            "\n",
            "F1 Score:\n",
            "  57.83882731085775\n"
          ]
        }
      ]
    },
    {
      "cell_type": "code",
      "metadata": {
        "id": "nsgacT9vUOg9"
      },
      "source": [
        "d_accuracy={\"Logistic Regression\":log_accuracy,\"XG Boost\":xg_accuracy}\n",
        "d_f1={\"Logistic Regression\":log_f1,\"XG Boost\":xg_f1}\n",
        "df1=pd.DataFrame.from_dict(d_accuracy,orient='index',columns=[\"Full Text\",\"NN\",\"NN+JJ\"])\n",
        "df2=pd.DataFrame.from_dict(d_f1,orient='index',columns=[\"Full Text\",\"NN\",\"NN+JJ\"])"
      ],
      "execution_count": 27,
      "outputs": []
    },
    {
      "cell_type": "code",
      "metadata": {
        "colab": {
          "base_uri": "https://localhost:8080/"
        },
        "id": "b5sBmFozZwY9",
        "outputId": "1746938b-8bf0-4a9f-c7e9-0c80c32f5ac6"
      },
      "source": [
        "print(df1)"
      ],
      "execution_count": 28,
      "outputs": [
        {
          "output_type": "stream",
          "name": "stdout",
          "text": [
            "                     Full Text         NN      NN+JJ\n",
            "Logistic Regression  73.156786  69.085046  71.063539\n",
            "XG Boost             73.156786  69.085046  71.063539\n"
          ]
        }
      ]
    },
    {
      "cell_type": "code",
      "metadata": {
        "colab": {
          "base_uri": "https://localhost:8080/",
          "height": 386
        },
        "id": "S5ED7ariVek6",
        "outputId": "79c798ee-09b1-469a-f8f4-38392ab12c27"
      },
      "source": [
        "print(\"Accuracy\")\n",
        "df1.plot.bar()"
      ],
      "execution_count": 29,
      "outputs": [
        {
          "output_type": "stream",
          "name": "stdout",
          "text": [
            "Accuracy\n"
          ]
        },
        {
          "output_type": "execute_result",
          "data": {
            "text/plain": [
              "<matplotlib.axes._subplots.AxesSubplot at 0x7ff900f10450>"
            ]
          },
          "metadata": {},
          "execution_count": 29
        },
        {
          "output_type": "display_data",
          "data": {
            "image/png": "[encoded data removed]",
            "text/plain": [
              "<Figure size 432x288 with 1 Axes>"
            ]
          },
          "metadata": {
            "needs_background": "light"
          }
        }
      ]
    },
    {
      "cell_type": "code",
      "metadata": {
        "colab": {
          "base_uri": "https://localhost:8080/"
        },
        "id": "AMBkyPzYZ09o",
        "outputId": "b4a7e8a2-8ce9-4d3a-db88-2319925852e6"
      },
      "source": [
        "print(df2)"
      ],
      "execution_count": 30,
      "outputs": [
        {
          "output_type": "stream",
          "name": "stdout",
          "text": [
            "                     Full Text       NN      NN+JJ\n",
            "Logistic Regression  62.667676  53.0265  57.838827\n",
            "XG Boost             62.667676  53.0265  57.838827\n"
          ]
        }
      ]
    },
    {
      "cell_type": "code",
      "metadata": {
        "colab": {
          "base_uri": "https://localhost:8080/",
          "height": 386
        },
        "id": "IkXCrU1sVmmz",
        "outputId": "841b751f-02d8-466f-edd5-c3326a0ccd2f"
      },
      "source": [
        "print(\"F1 Score\")\n",
        "df2.plot.bar()"
      ],
      "execution_count": 31,
      "outputs": [
        {
          "output_type": "stream",
          "name": "stdout",
          "text": [
            "F1 Score\n"
          ]
        },
        {
          "output_type": "execute_result",
          "data": {
            "text/plain": [
              "<matplotlib.axes._subplots.AxesSubplot at 0x7ff8f5325dd0>"
            ]
          },
          "metadata": {},
          "execution_count": 31
        },
        {
          "output_type": "display_data",
          "data": {
            "image/png": "[encoded data removed]",
            "text/plain": [
              "<Figure size 432x288 with 1 Axes>"
            ]
          },
          "metadata": {
            "needs_background": "light"
          }
        }
      ]
    },
    {
      "cell_type": "code",
      "metadata": {
        "id": "iqW79BQbXw4J"
      },
      "source": [
        ""
      ],
      "execution_count": null,
      "outputs": []
    }
  ]
}
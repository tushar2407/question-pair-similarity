{
 "cells": [
  {
   "cell_type": "code",
   "execution_count": 25,
   "metadata": {},
   "outputs": [],
   "source": [
    "import pandas as pd\n",
    "import numpy as np\n",
    "import matplotlib.pyplot as plt\n",
    "\n",
    "from sklearn.feature_extraction.text import CountVectorizer\n",
    "import itertools\n",
    "import re\n",
    "from keras.preprocessing.sequence import pad_sequences\n",
    "from sklearn.model_selection import train_test_split\n",
    "\n",
    "from sklearn.metrics import accuracy_score, confusion_matrix, f1_score\n",
    "\n",
    "import keras.layers as lyr\n",
    "from keras.models import Model, load_model\n",
    "\n",
    "import xgboost as xgb"
   ]
  },
  {
   "cell_type": "code",
   "execution_count": 26,
   "metadata": {},
   "outputs": [],
   "source": [
    "BASE_DIR = './dataset/'\n",
    "# train = pd.read_csv(f'{BASE_DIR}train.csv')\n",
    "# test = pd.read_csv(f'{BASE_DIR}test.csv')\n",
    "train = pd.read_csv(f'{BASE_DIR}train_preprocessed.csv')"
   ]
  },
  {
   "cell_type": "code",
   "execution_count": 27,
   "metadata": {},
   "outputs": [],
   "source": [
    "train['id'] = train['id'].apply(str)\n",
    "# test['test_id'] = test['test_id'].apply(str)"
   ]
  },
  {
   "cell_type": "code",
   "execution_count": 28,
   "metadata": {},
   "outputs": [],
   "source": [
    "# df = pd.concat((train, test))\n",
    "df = train\n",
    "df['question1'].fillna('', inplace=True)\n",
    "df['question2'].fillna('', inplace=True)"
   ]
  },
  {
   "cell_type": "markdown",
   "metadata": {},
   "source": [
    "### Vocab"
   ]
  },
  {
   "cell_type": "code",
   "execution_count": 29,
   "metadata": {},
   "outputs": [],
   "source": [
    "counts_vectorizer = CountVectorizer(max_features=10000-1).fit(\n",
    "    itertools.chain(\n",
    "        df['question1'], \n",
    "        df['question2']\n",
    "        )\n",
    "    )\n",
    "other_index = len(counts_vectorizer.vocabulary_)"
   ]
  },
  {
   "cell_type": "code",
   "execution_count": 30,
   "metadata": {},
   "outputs": [],
   "source": [
    "words_tokenizer = re.compile(counts_vectorizer.token_pattern)"
   ]
  },
  {
   "cell_type": "code",
   "execution_count": 31,
   "metadata": {},
   "outputs": [],
   "source": [
    "def create_padded_seqs(texts, max_len=10):\n",
    "    seqs = texts.apply(\n",
    "        lambda s: \n",
    "            [\n",
    "                counts_vectorizer.vocabulary_[w] if w in counts_vectorizer.vocabulary_ else other_index\n",
    "                for w in words_tokenizer.findall(s.lower())\n",
    "            ]\n",
    "        )\n",
    "    return pad_sequences(seqs, maxlen=max_len)"
   ]
  },
  {
   "cell_type": "code",
   "execution_count": 32,
   "metadata": {},
   "outputs": [],
   "source": [
    "X1_train, X1_val, X2_train, X2_val, y_train, y_val = \\\n",
    "    train_test_split(\n",
    "        create_padded_seqs(df[df['id'].notnull()]['question1']), \n",
    "        create_padded_seqs(df[df['id'].notnull()]['question2']),\n",
    "        df[df['id'].notnull()]['is_duplicate'].values,\n",
    "        stratify=df[df['id'].notnull()]['is_duplicate'].values,\n",
    "        test_size=0.3, random_state=1989\n",
    "    )\n",
    "X1_val, X1_test, X2_val, X2_test, y_val, y_test = \\\n",
    "    train_test_split(\n",
    "        X1_val, \n",
    "        X2_val,\n",
    "        y_val,\n",
    "        stratify=y_val,\n",
    "        test_size=0.5, random_state=1989\n",
    "    )"
   ]
  },
  {
   "cell_type": "code",
   "execution_count": 48,
   "metadata": {},
   "outputs": [
    {
     "name": "stdout",
     "output_type": "stream",
     "text": [
      "Model: \"model_2\"\n",
      "__________________________________________________________________________________________________\n",
      " Layer (type)                   Output Shape         Param #     Connected to                     \n",
      "==================================================================================================\n",
      " input_5 (InputLayer)           [(None, 10)]         0           []                               \n",
      "                                                                                                  \n",
      " input_6 (InputLayer)           [(None, 10)]         0           []                               \n",
      "                                                                                                  \n",
      " embedding_2 (Embedding)        (None, 10, 100)      1000000     ['input_5[0][0]',                \n",
      "                                                                  'input_6[0][0]']                \n",
      "                                                                                                  \n",
      " lstm_2 (LSTM)                  (None, 256)          365568      ['embedding_2[0][0]',            \n",
      "                                                                  'embedding_2[1][0]']            \n",
      "                                                                                                  \n",
      " multiply_2 (Multiply)          (None, 256)          0           ['lstm_2[0][0]',                 \n",
      "                                                                  'lstm_2[1][0]']                 \n",
      "                                                                                                  \n",
      " dense_4 (Dense)                (None, 16)           4112        ['multiply_2[0][0]']             \n",
      "                                                                                                  \n",
      " dense_5 (Dense)                (None, 1)            17          ['dense_4[0][0]']                \n",
      "                                                                                                  \n",
      "==================================================================================================\n",
      "Total params: 1,369,697\n",
      "Trainable params: 1,369,697\n",
      "Non-trainable params: 0\n",
      "__________________________________________________________________________________________________\n"
     ]
    }
   ],
   "source": [
    "input1_tensor = lyr.Input(X1_train.shape[1:])\n",
    "input2_tensor = lyr.Input(X2_train.shape[1:])\n",
    "\n",
    "words_embedding_layer = lyr.Embedding(X1_train.max() + 1, 100)\n",
    "seq_embedding_layer = lyr.LSTM(256, activation='tanh')\n",
    "\n",
    "seq_embedding = lambda tensor: seq_embedding_layer(words_embedding_layer(tensor))\n",
    "\n",
    "merge_layer = lyr.multiply([seq_embedding(input1_tensor), seq_embedding(input2_tensor)])\n",
    "\n",
    "dense1_layer = lyr.Dense(16, activation='sigmoid')(merge_layer)\n",
    "ouput_layer = lyr.Dense(1, activation='sigmoid')(dense1_layer)\n",
    "\n",
    "model = Model([input1_tensor, input2_tensor], ouput_layer)\n",
    "\n",
    "model.compile(loss='binary_crossentropy', optimizer='adam')\n",
    "model.summary()"
   ]
  },
  {
   "cell_type": "code",
   "execution_count": 34,
   "metadata": {},
   "outputs": [
    {
     "name": "stdout",
     "output_type": "stream",
     "text": [
      "Epoch 1/6\n",
      "2212/2212 - 303s - loss: 0.5019 - val_loss: 0.4658 - 303s/epoch - 137ms/step\n",
      "Epoch 2/6\n",
      "2212/2212 - 293s - loss: 0.4267 - val_loss: 0.4373 - 293s/epoch - 132ms/step\n",
      "Epoch 3/6\n",
      "2212/2212 - 301s - loss: 0.3797 - val_loss: 0.4239 - 301s/epoch - 136ms/step\n",
      "Epoch 4/6\n",
      "2212/2212 - 271s - loss: 0.3418 - val_loss: 0.4252 - 271s/epoch - 122ms/step\n",
      "Epoch 5/6\n",
      "2212/2212 - 303s - loss: 0.3048 - val_loss: 0.4317 - 303s/epoch - 137ms/step\n",
      "Epoch 6/6\n",
      "2212/2212 - 274s - loss: 0.2694 - val_loss: 0.4517 - 274s/epoch - 124ms/step\n"
     ]
    },
    {
     "data": {
      "text/plain": [
       "<keras.callbacks.History at 0x28cd657daf0>"
      ]
     },
     "execution_count": 34,
     "metadata": {},
     "output_type": "execute_result"
    }
   ],
   "source": [
    "# model.fit([X1_train, X2_train], y_train, \n",
    "#           validation_data=([X1_val, X2_val], y_val), \n",
    "#           batch_size=128, epochs=6, verbose=2)"
   ]
  },
  {
   "cell_type": "code",
   "execution_count": 49,
   "metadata": {},
   "outputs": [
    {
     "data": {
      "text/plain": [
       "<tensorflow.python.training.tracking.util.CheckpointLoadStatus at 0x28c862fdfd0>"
      ]
     },
     "execution_count": 49,
     "metadata": {},
     "output_type": "execute_result"
    }
   ],
   "source": [
    "model.load_weights(\"./models/analysis2/model.pkl\")"
   ]
  },
  {
   "cell_type": "code",
   "execution_count": 50,
   "metadata": {},
   "outputs": [],
   "source": [
    "y_pred = model.predict([X1_test, X2_test],128)"
   ]
  },
  {
   "cell_type": "code",
   "execution_count": 36,
   "metadata": {},
   "outputs": [],
   "source": [
    "y_pred = np.where(y_pred>0.5, 1, 0)"
   ]
  },
  {
   "cell_type": "code",
   "execution_count": 45,
   "metadata": {},
   "outputs": [
    {
     "name": "stderr",
     "output_type": "stream",
     "text": [
      "WARNING:absl:Found untraced functions such as lstm_cell_1_layer_call_fn, lstm_cell_1_layer_call_and_return_conditional_losses, lstm_cell_1_layer_call_fn, lstm_cell_1_layer_call_and_return_conditional_losses, lstm_cell_1_layer_call_and_return_conditional_losses while saving (showing 5 of 5). These functions will not be directly callable after loading.\n"
     ]
    },
    {
     "name": "stdout",
     "output_type": "stream",
     "text": [
      "INFO:tensorflow:Assets written to: ./models/analysis2/model\\assets\n"
     ]
    },
    {
     "name": "stderr",
     "output_type": "stream",
     "text": [
      "INFO:tensorflow:Assets written to: ./models/analysis2/model\\assets\n",
      "d:\\college\\Sem_5\\NLP\\Project\\venv\\lib\\site-packages\\keras\\engine\\functional.py:1410: CustomMaskWarning: Custom mask layers require a config and must override get_config. When loading, the custom mask layer must be passed to the custom_objects argument.\n",
      "  layer_config = serialize_layer_fn(layer)\n",
      "d:\\college\\Sem_5\\NLP\\Project\\venv\\lib\\site-packages\\keras\\saving\\saved_model\\layer_serialization.py:112: CustomMaskWarning: Custom mask layers require a config and must override get_config. When loading, the custom mask layer must be passed to the custom_objects argument.\n",
      "  return generic_utils.serialize_keras_object(obj)\n",
      "WARNING:absl:<keras.layers.recurrent.LSTMCell object at 0x0000028C8282F550> has the same name 'LSTMCell' as a built-in Keras object. Consider renaming <class 'keras.layers.recurrent.LSTMCell'> to avoid naming conflicts when loading with `tf.keras.models.load_model`. If renaming is not possible, pass the object in the `custom_objects` parameter of the load function.\n"
     ]
    }
   ],
   "source": [
    "# model.save_weights('./models/analysis2/model.pkl')"
   ]
  },
  {
   "cell_type": "code",
   "execution_count": 38,
   "metadata": {},
   "outputs": [
    {
     "name": "stdout",
     "output_type": "stream",
     "text": [
      "Accuracy Score :  0.8078907885842415\n",
      "F1 Score :  0.7531565121599864\n",
      "Precision :  0.7165430506288294\n",
      "Recall :  0.793713163064833\n"
     ]
    }
   ],
   "source": [
    "from sklearn.metrics import accuracy_score, f1_score, precision_score, recall_score\n",
    "print(\"Accuracy Score : \", accuracy_score(y_test, y_pred))\n",
    "print(\"F1 Score : \", f1_score(y_test, y_pred))\n",
    "print(\"Precision : \", precision_score(y_test, y_pred))\n",
    "print(\"Recall : \", recall_score(y_test, y_pred))"
   ]
  },
  {
   "cell_type": "code",
   "execution_count": 14,
   "metadata": {},
   "outputs": [],
   "source": [
    "# features_model = Model([input1_tensor, input2_tensor], merge_layer)\n",
    "# features_model.compile(loss='mse', optimizer='adam')\n",
    "# F_train = features_model.predict([X1_train, X2_train], batch_size=128)\n",
    "# F_val = features_model.predict([X1_val, X2_val], batch_size=128)"
   ]
  },
  {
   "cell_type": "code",
   "execution_count": 15,
   "metadata": {},
   "outputs": [],
   "source": [
    "# import pickle\n",
    "# pickle.dump(merge_layer, open(\"./models/analysis2/merge_layer_unprocessed.pkl\", \"wb\"))"
   ]
  },
  {
   "cell_type": "markdown",
   "metadata": {},
   "source": [
    "### XgBoost on top (NA)"
   ]
  },
  {
   "cell_type": "code",
   "execution_count": 16,
   "metadata": {},
   "outputs": [],
   "source": [
    "dTrain = xgb.DMatrix(F_train, label=y_train)\n",
    "dVal = xgb.DMatrix(F_val, label=y_val)\n",
    "xgb_params = {\n",
    "    'objective': 'binary:logistic',\n",
    "    'booster': 'gbtree',\n",
    "    'eval_metric': 'logloss',\n",
    "    'eta': 0.1, \n",
    "    'max_depth': 9,\n",
    "    'subsample': 0.9,\n",
    "    'colsample_bytree': 1 / F_train.shape[1]**0.5,\n",
    "    'min_child_weight': 5,\n",
    "    'silent': 1\n",
    "}"
   ]
  },
  {
   "cell_type": "code",
   "execution_count": 17,
   "metadata": {},
   "outputs": [
    {
     "name": "stdout",
     "output_type": "stream",
     "text": [
      "[15:55:41] WARNING: C:/Users/Administrator/workspace/xgboost-win64_release_1.5.0/src/learner.cc:576: \n",
      "Parameters: { \"silent\" } might not be used.\n",
      "\n",
      "  This could be a false alarm, with some parameters getting used by language bindings but\n",
      "  then being mistakenly passed down to XGBoost core, or some parameter actually being used\n",
      "  but getting flagged wrongly here. Please open an issue if you find any such cases.\n",
      "\n",
      "\n",
      "[0]\ttrain-logloss:0.67954\tval-logloss:0.68054\n",
      "[10]\ttrain-logloss:0.60924\tval-logloss:0.61783\n",
      "[20]\ttrain-logloss:0.57928\tval-logloss:0.59478\n",
      "[30]\ttrain-logloss:0.56041\tval-logloss:0.58232\n",
      "[40]\ttrain-logloss:0.54551\tval-logloss:0.57386\n",
      "[50]\ttrain-logloss:0.53390\tval-logloss:0.56806\n",
      "[60]\ttrain-logloss:0.52326\tval-logloss:0.56331\n",
      "[70]\ttrain-logloss:0.51404\tval-logloss:0.55969\n",
      "[80]\ttrain-logloss:0.50502\tval-logloss:0.55628\n",
      "[90]\ttrain-logloss:0.49600\tval-logloss:0.55318\n",
      "[100]\ttrain-logloss:0.48787\tval-logloss:0.55078\n",
      "[110]\ttrain-logloss:0.48027\tval-logloss:0.54855\n",
      "[120]\ttrain-logloss:0.47239\tval-logloss:0.54634\n",
      "[130]\ttrain-logloss:0.46542\tval-logloss:0.54458\n",
      "[140]\ttrain-logloss:0.45913\tval-logloss:0.54299\n",
      "[150]\ttrain-logloss:0.45284\tval-logloss:0.54142\n",
      "[160]\ttrain-logloss:0.44732\tval-logloss:0.54015\n",
      "[170]\ttrain-logloss:0.44239\tval-logloss:0.53909\n",
      "[180]\ttrain-logloss:0.43682\tval-logloss:0.53787\n",
      "[190]\ttrain-logloss:0.43191\tval-logloss:0.53681\n",
      "[200]\ttrain-logloss:0.42669\tval-logloss:0.53568\n",
      "[210]\ttrain-logloss:0.42174\tval-logloss:0.53462\n",
      "[220]\ttrain-logloss:0.41804\tval-logloss:0.53383\n",
      "[230]\ttrain-logloss:0.41472\tval-logloss:0.53312\n",
      "[240]\ttrain-logloss:0.41100\tval-logloss:0.53240\n",
      "[250]\ttrain-logloss:0.40727\tval-logloss:0.53169\n",
      "[260]\ttrain-logloss:0.40422\tval-logloss:0.53118\n",
      "[270]\ttrain-logloss:0.40057\tval-logloss:0.53067\n",
      "[280]\ttrain-logloss:0.39738\tval-logloss:0.53011\n",
      "[290]\ttrain-logloss:0.39403\tval-logloss:0.52973\n",
      "[300]\ttrain-logloss:0.39101\tval-logloss:0.52926\n",
      "[310]\ttrain-logloss:0.38841\tval-logloss:0.52886\n",
      "[320]\ttrain-logloss:0.38653\tval-logloss:0.52845\n",
      "[330]\ttrain-logloss:0.38391\tval-logloss:0.52795\n",
      "[340]\ttrain-logloss:0.38103\tval-logloss:0.52745\n",
      "[350]\ttrain-logloss:0.37840\tval-logloss:0.52698\n",
      "[360]\ttrain-logloss:0.37602\tval-logloss:0.52662\n",
      "[370]\ttrain-logloss:0.37349\tval-logloss:0.52628\n",
      "[380]\ttrain-logloss:0.37068\tval-logloss:0.52587\n",
      "[390]\ttrain-logloss:0.36777\tval-logloss:0.52550\n",
      "[400]\ttrain-logloss:0.36590\tval-logloss:0.52520\n",
      "[410]\ttrain-logloss:0.36388\tval-logloss:0.52476\n",
      "[420]\ttrain-logloss:0.36118\tval-logloss:0.52449\n",
      "[430]\ttrain-logloss:0.35891\tval-logloss:0.52403\n",
      "[440]\ttrain-logloss:0.35664\tval-logloss:0.52374\n",
      "[450]\ttrain-logloss:0.35425\tval-logloss:0.52339\n",
      "[460]\ttrain-logloss:0.35248\tval-logloss:0.52311\n",
      "[470]\ttrain-logloss:0.35051\tval-logloss:0.52290\n",
      "[480]\ttrain-logloss:0.34882\tval-logloss:0.52265\n",
      "[490]\ttrain-logloss:0.34708\tval-logloss:0.52246\n",
      "[500]\ttrain-logloss:0.34517\tval-logloss:0.52216\n",
      "[510]\ttrain-logloss:0.34357\tval-logloss:0.52193\n",
      "[520]\ttrain-logloss:0.34138\tval-logloss:0.52163\n",
      "[530]\ttrain-logloss:0.33857\tval-logloss:0.52141\n",
      "[540]\ttrain-logloss:0.33619\tval-logloss:0.52116\n",
      "[550]\ttrain-logloss:0.33414\tval-logloss:0.52078\n",
      "[560]\ttrain-logloss:0.33247\tval-logloss:0.52051\n",
      "[570]\ttrain-logloss:0.33061\tval-logloss:0.52035\n",
      "[580]\ttrain-logloss:0.32884\tval-logloss:0.52009\n",
      "[590]\ttrain-logloss:0.32675\tval-logloss:0.51988\n",
      "[600]\ttrain-logloss:0.32463\tval-logloss:0.51970\n",
      "[610]\ttrain-logloss:0.32286\tval-logloss:0.51964\n",
      "[620]\ttrain-logloss:0.32084\tval-logloss:0.51943\n",
      "[630]\ttrain-logloss:0.31888\tval-logloss:0.51924\n",
      "[640]\ttrain-logloss:0.31766\tval-logloss:0.51909\n",
      "[650]\ttrain-logloss:0.31644\tval-logloss:0.51894\n",
      "[660]\ttrain-logloss:0.31480\tval-logloss:0.51868\n",
      "[670]\ttrain-logloss:0.31359\tval-logloss:0.51849\n",
      "[680]\ttrain-logloss:0.31135\tval-logloss:0.51823\n",
      "[690]\ttrain-logloss:0.30989\tval-logloss:0.51800\n",
      "[700]\ttrain-logloss:0.30797\tval-logloss:0.51767\n",
      "[710]\ttrain-logloss:0.30668\tval-logloss:0.51753\n",
      "[720]\ttrain-logloss:0.30549\tval-logloss:0.51736\n",
      "[730]\ttrain-logloss:0.30434\tval-logloss:0.51718\n",
      "[740]\ttrain-logloss:0.30273\tval-logloss:0.51697\n",
      "[750]\ttrain-logloss:0.30114\tval-logloss:0.51679\n",
      "[760]\ttrain-logloss:0.29995\tval-logloss:0.51665\n",
      "[770]\ttrain-logloss:0.29857\tval-logloss:0.51653\n",
      "[780]\ttrain-logloss:0.29687\tval-logloss:0.51642\n",
      "[790]\ttrain-logloss:0.29531\tval-logloss:0.51618\n",
      "[800]\ttrain-logloss:0.29371\tval-logloss:0.51597\n",
      "[810]\ttrain-logloss:0.29181\tval-logloss:0.51579\n",
      "[820]\ttrain-logloss:0.29006\tval-logloss:0.51552\n",
      "[830]\ttrain-logloss:0.28923\tval-logloss:0.51541\n",
      "[840]\ttrain-logloss:0.28751\tval-logloss:0.51533\n",
      "[847]\ttrain-logloss:0.28633\tval-logloss:0.51530\n"
     ]
    }
   ],
   "source": [
    "bst = xgb.train(xgb_params, dTrain, 1000,  [(dTrain,'train'), (dVal,'val')],\n",
    "                verbose_eval=10, early_stopping_rounds=10)\n"
   ]
  },
  {
   "cell_type": "code",
   "execution_count": 18,
   "metadata": {},
   "outputs": [],
   "source": [
    "pickle.dump(bst, open(\"./models/analysis2/xgb_unprocessed.pkl\", \"wb\"))"
   ]
  },
  {
   "cell_type": "code",
   "execution_count": 19,
   "metadata": {},
   "outputs": [
    {
     "data": {
      "text/html": [
       "<div>\n",
       "<style scoped>\n",
       "    .dataframe tbody tr th:only-of-type {\n",
       "        vertical-align: middle;\n",
       "    }\n",
       "\n",
       "    .dataframe tbody tr th {\n",
       "        vertical-align: top;\n",
       "    }\n",
       "\n",
       "    .dataframe thead th {\n",
       "        text-align: right;\n",
       "    }\n",
       "</style>\n",
       "<table border=\"1\" class=\"dataframe\">\n",
       "  <thead>\n",
       "    <tr style=\"text-align: right;\">\n",
       "      <th></th>\n",
       "      <th>id</th>\n",
       "      <th>qid1</th>\n",
       "      <th>qid2</th>\n",
       "      <th>question1</th>\n",
       "      <th>question2</th>\n",
       "      <th>is_duplicate</th>\n",
       "      <th>test_id</th>\n",
       "    </tr>\n",
       "  </thead>\n",
       "  <tbody>\n",
       "    <tr>\n",
       "      <th>0</th>\n",
       "      <td>0</td>\n",
       "      <td>1.0</td>\n",
       "      <td>2.0</td>\n",
       "      <td>What is the step by step guide to invest in sh...</td>\n",
       "      <td>What is the step by step guide to invest in sh...</td>\n",
       "      <td>0.0</td>\n",
       "      <td>NaN</td>\n",
       "    </tr>\n",
       "    <tr>\n",
       "      <th>1</th>\n",
       "      <td>1</td>\n",
       "      <td>3.0</td>\n",
       "      <td>4.0</td>\n",
       "      <td>What is the story of Kohinoor (Koh-i-Noor) Dia...</td>\n",
       "      <td>What would happen if the Indian government sto...</td>\n",
       "      <td>0.0</td>\n",
       "      <td>NaN</td>\n",
       "    </tr>\n",
       "    <tr>\n",
       "      <th>2</th>\n",
       "      <td>2</td>\n",
       "      <td>5.0</td>\n",
       "      <td>6.0</td>\n",
       "      <td>How can I increase the speed of my internet co...</td>\n",
       "      <td>How can Internet speed be increased by hacking...</td>\n",
       "      <td>0.0</td>\n",
       "      <td>NaN</td>\n",
       "    </tr>\n",
       "    <tr>\n",
       "      <th>3</th>\n",
       "      <td>3</td>\n",
       "      <td>7.0</td>\n",
       "      <td>8.0</td>\n",
       "      <td>Why am I mentally very lonely? How can I solve...</td>\n",
       "      <td>Find the remainder when [math]23^{24}[/math] i...</td>\n",
       "      <td>0.0</td>\n",
       "      <td>NaN</td>\n",
       "    </tr>\n",
       "    <tr>\n",
       "      <th>4</th>\n",
       "      <td>4</td>\n",
       "      <td>9.0</td>\n",
       "      <td>10.0</td>\n",
       "      <td>Which one dissolve in water quikly sugar, salt...</td>\n",
       "      <td>Which fish would survive in salt water?</td>\n",
       "      <td>0.0</td>\n",
       "      <td>NaN</td>\n",
       "    </tr>\n",
       "  </tbody>\n",
       "</table>\n",
       "</div>"
      ],
      "text/plain": [
       "  id  qid1  qid2                                          question1  \\\n",
       "0  0   1.0   2.0  What is the step by step guide to invest in sh...   \n",
       "1  1   3.0   4.0  What is the story of Kohinoor (Koh-i-Noor) Dia...   \n",
       "2  2   5.0   6.0  How can I increase the speed of my internet co...   \n",
       "3  3   7.0   8.0  Why am I mentally very lonely? How can I solve...   \n",
       "4  4   9.0  10.0  Which one dissolve in water quikly sugar, salt...   \n",
       "\n",
       "                                           question2  is_duplicate test_id  \n",
       "0  What is the step by step guide to invest in sh...           0.0     NaN  \n",
       "1  What would happen if the Indian government sto...           0.0     NaN  \n",
       "2  How can Internet speed be increased by hacking...           0.0     NaN  \n",
       "3  Find the remainder when [math]23^{24}[/math] i...           0.0     NaN  \n",
       "4            Which fish would survive in salt water?           0.0     NaN  "
      ]
     },
     "execution_count": 19,
     "metadata": {},
     "output_type": "execute_result"
    }
   ],
   "source": [
    "df.head()"
   ]
  },
  {
   "cell_type": "code",
   "execution_count": 20,
   "metadata": {},
   "outputs": [],
   "source": [
    "F_test = features_model.predict([X1_test, X2_test], batch_size=128)"
   ]
  },
  {
   "cell_type": "code",
   "execution_count": 21,
   "metadata": {},
   "outputs": [],
   "source": [
    "dTest = xgb.DMatrix(F_test)"
   ]
  },
  {
   "cell_type": "code",
   "execution_count": 22,
   "metadata": {},
   "outputs": [
    {
     "name": "stderr",
     "output_type": "stream",
     "text": [
      "d:\\college\\Sem_5\\NLP\\Project\\venv\\lib\\site-packages\\xgboost\\core.py:105: UserWarning: ntree_limit is deprecated, use `iteration_range` or model slicing instead.\n",
      "  warnings.warn(\n"
     ]
    },
    {
     "data": {
      "text/html": [
       "<div>\n",
       "<style scoped>\n",
       "    .dataframe tbody tr th:only-of-type {\n",
       "        vertical-align: middle;\n",
       "    }\n",
       "\n",
       "    .dataframe tbody tr th {\n",
       "        vertical-align: top;\n",
       "    }\n",
       "\n",
       "    .dataframe thead th {\n",
       "        text-align: right;\n",
       "    }\n",
       "</style>\n",
       "<table border=\"1\" class=\"dataframe\">\n",
       "  <thead>\n",
       "    <tr style=\"text-align: right;\">\n",
       "      <th></th>\n",
       "      <th>is_duplicate_true</th>\n",
       "      <th>is_duplicate_pred</th>\n",
       "    </tr>\n",
       "  </thead>\n",
       "  <tbody>\n",
       "    <tr>\n",
       "      <th>0</th>\n",
       "      <td>0.0</td>\n",
       "      <td>0.504413</td>\n",
       "    </tr>\n",
       "    <tr>\n",
       "      <th>1</th>\n",
       "      <td>0.0</td>\n",
       "      <td>0.082391</td>\n",
       "    </tr>\n",
       "    <tr>\n",
       "      <th>2</th>\n",
       "      <td>0.0</td>\n",
       "      <td>0.154923</td>\n",
       "    </tr>\n",
       "    <tr>\n",
       "      <th>3</th>\n",
       "      <td>1.0</td>\n",
       "      <td>0.237311</td>\n",
       "    </tr>\n",
       "    <tr>\n",
       "      <th>4</th>\n",
       "      <td>0.0</td>\n",
       "      <td>0.297524</td>\n",
       "    </tr>\n",
       "  </tbody>\n",
       "</table>\n",
       "</div>"
      ],
      "text/plain": [
       "   is_duplicate_true  is_duplicate_pred\n",
       "0                0.0           0.504413\n",
       "1                0.0           0.082391\n",
       "2                0.0           0.154923\n",
       "3                1.0           0.237311\n",
       "4                0.0           0.297524"
      ]
     },
     "execution_count": 22,
     "metadata": {},
     "output_type": "execute_result"
    }
   ],
   "source": [
    "df_sub = pd.DataFrame({\n",
    "        'is_duplicate_true': y_test,\n",
    "        'is_duplicate_pred': bst.predict(dTest, ntree_limit=bst.best_ntree_limit)\n",
    "    })\n",
    "\n",
    "df_sub.head()"
   ]
  },
  {
   "cell_type": "code",
   "execution_count": 24,
   "metadata": {},
   "outputs": [
    {
     "data": {
      "text/plain": [
       "<AxesSubplot:>"
      ]
     },
     "execution_count": 24,
     "metadata": {},
     "output_type": "execute_result"
    },
    {
     "data": {
      "image/png": "[encoded data removed]",
      "text/plain": [
       "<Figure size 432x288 with 1 Axes>"
      ]
     },
     "metadata": {
      "needs_background": "light"
     },
     "output_type": "display_data"
    }
   ],
   "source": [
    "df_sub['is_duplicate_pred'].hist(bins=100)"
   ]
  },
  {
   "cell_type": "code",
   "execution_count": 26,
   "metadata": {},
   "outputs": [],
   "source": [
    "df_sub['is_duplicate_pred'] = df_sub['is_duplicate_pred'].apply(lambda x : 1 if x>0.5 else 0)"
   ]
  },
  {
   "cell_type": "code",
   "execution_count": 27,
   "metadata": {},
   "outputs": [
    {
     "name": "stderr",
     "output_type": "stream",
     "text": [
      "d:\\college\\Sem_5\\NLP\\Project\\venv\\lib\\site-packages\\xgboost\\core.py:105: UserWarning: ntree_limit is deprecated, use `iteration_range` or model slicing instead.\n",
      "  warnings.warn(\n"
     ]
    }
   ],
   "source": [
    "y_pred = bst.predict(dTest, ntree_limit=bst.best_ntree_limit)\n",
    "y_pred = np.where(y_pred>0.5, 1, 0)"
   ]
  },
  {
   "cell_type": "code",
   "execution_count": 28,
   "metadata": {},
   "outputs": [
    {
     "data": {
      "text/plain": [
       "0.742414748367522"
      ]
     },
     "execution_count": 28,
     "metadata": {},
     "output_type": "execute_result"
    }
   ],
   "source": [
    "accuracy_score(y_test, y_pred)"
   ]
  },
  {
   "cell_type": "code",
   "execution_count": 29,
   "metadata": {},
   "outputs": [
    {
     "data": {
      "text/plain": [
       "array([[32630,  5624],\n",
       "       [ 9997, 12393]], dtype=int64)"
      ]
     },
     "execution_count": 29,
     "metadata": {},
     "output_type": "execute_result"
    }
   ],
   "source": [
    "confusion_matrix(y_test, y_pred)"
   ]
  },
  {
   "cell_type": "code",
   "execution_count": 30,
   "metadata": {},
   "outputs": [
    {
     "data": {
      "text/plain": [
       "0.613408567822407"
      ]
     },
     "execution_count": 30,
     "metadata": {},
     "output_type": "execute_result"
    }
   ],
   "source": [
    "f1_score(y_test, y_pred)"
   ]
  }
 ],
 "metadata": {
  "interpreter": {
   "hash": "48cb8e7cdb11ca655815c41ac34bed6720108475fb3aac9b379c032798fb60bc"
  },
  "kernelspec": {
   "display_name": "Python 3.8.3 64-bit ('venv': venv)",
   "language": "python",
   "name": "python3"
  },
  "language_info": {
   "codemirror_mode": {
    "name": "ipython",
    "version": 3
   },
   "file_extension": ".py",
   "mimetype": "text/x-python",
   "name": "python",
   "nbconvert_exporter": "python",
   "pygments_lexer": "ipython3",
   "version": "3.8.3"
  },
  "orig_nbformat": 4
 },
 "nbformat": 4,
 "nbformat_minor": 2
}
